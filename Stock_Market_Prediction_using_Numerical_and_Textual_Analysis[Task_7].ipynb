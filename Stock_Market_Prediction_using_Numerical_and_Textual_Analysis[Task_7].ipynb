{
  "nbformat": 4,
  "nbformat_minor": 0,
  "metadata": {
    "colab": {
      "name": "Stock_Market_Prediction_using_Numerical_and_Textual_Analysis[Task-7].ipynb",
      "provenance": [],
      "collapsed_sections": [],
      "include_colab_link": true
    },
    "kernelspec": {
      "name": "python3",
      "display_name": "Python 3"
    },
    "language_info": {
      "name": "python"
    }
  },
  "cells": [
    {
      "cell_type": "markdown",
      "metadata": {
        "id": "view-in-github",
        "colab_type": "text"
      },
      "source": [
        "<a href=\"https://colab.research.google.com/github/Technozpro/The-Sparks-Foundation-Tasks-7-Stock_Market_Prediction-/blob/main/Stock_Market_Prediction_using_Numerical_and_Textual_Analysis%5BTask_7%5D.ipynb\" target=\"_parent\"><img src=\"https://colab.research.google.com/assets/colab-badge.svg\" alt=\"Open In Colab\"/></a>"
      ]
    },
    {
      "cell_type": "markdown",
      "metadata": {
        "id": "fogRoTJssuDi"
      },
      "source": [
        "**Grip : The Sparks Foundation**\n",
        "\n",
        "---\n",
        "\n",
        "**Data Science and Business Analytics Intern**\n",
        "\n",
        "---\n",
        "\n",
        "**Author : Prem Gaikwad**\n",
        "\n",
        "---\n",
        "\n",
        "**Task 7 : Stock Market Prediction using Numerical and Textual Analysis** \n",
        "\n",
        "---\n",
        "**Objective : Create a hybrid model for stock price/performance** \n",
        "**prediction using numerical analysis of historical stock prices, and**\n",
        "**sentimental analysis of news headlines.**\n",
        "\n",
        "**Stock to analyze and predict - SENSEX (S&P BSE SENSEX)**\n",
        "\n",
        "**Download historical stock prices from https://finance.yahoo.com/**\n",
        "\n",
        "**Download textual (news) data from https://bit.ly/36fFPI6**"
      ]
    },
    {
      "cell_type": "markdown",
      "metadata": {
        "id": "P7NxGDCqvKHI"
      },
      "source": [
        "**Loading important libraries**"
      ]
    },
    {
      "cell_type": "code",
      "metadata": {
        "colab": {
          "base_uri": "https://localhost:8080/"
        },
        "id": "qyoePfzAsths",
        "outputId": "27474742-ae21-4205-e6d3-b9737c82cb23"
      },
      "source": [
        "import pandas as pd                                               #Importing data wrangling and data manipulation Libraries\n",
        "import numpy as np                                                #Importing numerical and scientific computing Libraries\n",
        "import matplotlib.pyplot as plt                                   #Importing data visualization and graphical plotting Libraries\n",
        "import seaborn as sns                                             #used for data visualization , it is built on matplotlib\n",
        "\n",
        "from sklearn.model_selection import train_test_split\n",
        "from sklearn.tree import DecisionTreeClassifier\n",
        "from sklearn.feature_extraction.text import CountVectorizer       #Importing Machine Learning Libraries\n",
        "from sklearn.ensemble import RandomForestClassifier\n",
        "from sklearn import metrics\n",
        "from sklearn.model_selection import GridSearchCV\n",
        "from sklearn.preprocessing import StandardScaler\n",
        "\n",
        "from textblob import TextBlob\n",
        "from nltk.tokenize import sent_tokenize, word_tokenize\n",
        "from nltk.stem import PorterStemmer                               #Importing Text Analysis Libraries\n",
        "!pip install textblob \n",
        "from nltk.corpus import stopwords\n",
        "import nltk\n",
        "nltk.download('stopwords')\n",
        "nltk.download('wordnet')\n",
        "nltk.download('punkt')\n",
        "nltk.download('vader_lexicon') \n",
        "from nltk.sentiment.vader import SentimentIntensityAnalyzer \n",
        "!pip install twython"
      ],
      "execution_count": 98,
      "outputs": [
        {
          "output_type": "stream",
          "name": "stdout",
          "text": [
            "Requirement already satisfied: textblob in /usr/local/lib/python3.7/dist-packages (0.15.3)\n",
            "Requirement already satisfied: nltk>=3.1 in /usr/local/lib/python3.7/dist-packages (from textblob) (3.2.5)\n",
            "Requirement already satisfied: six in /usr/local/lib/python3.7/dist-packages (from nltk>=3.1->textblob) (1.15.0)\n",
            "[nltk_data] Downloading package stopwords to /root/nltk_data...\n",
            "[nltk_data]   Package stopwords is already up-to-date!\n",
            "[nltk_data] Downloading package wordnet to /root/nltk_data...\n",
            "[nltk_data]   Package wordnet is already up-to-date!\n",
            "[nltk_data] Downloading package punkt to /root/nltk_data...\n",
            "[nltk_data]   Package punkt is already up-to-date!\n",
            "[nltk_data] Downloading package vader_lexicon to /root/nltk_data...\n",
            "[nltk_data]   Package vader_lexicon is already up-to-date!\n",
            "Requirement already satisfied: twython in /usr/local/lib/python3.7/dist-packages (3.9.1)\n",
            "Requirement already satisfied: requests-oauthlib>=0.4.0 in /usr/local/lib/python3.7/dist-packages (from twython) (1.3.0)\n",
            "Requirement already satisfied: requests>=2.1.0 in /usr/local/lib/python3.7/dist-packages (from twython) (2.23.0)\n",
            "Requirement already satisfied: urllib3!=1.25.0,!=1.25.1,<1.26,>=1.21.1 in /usr/local/lib/python3.7/dist-packages (from requests>=2.1.0->twython) (1.24.3)\n",
            "Requirement already satisfied: chardet<4,>=3.0.2 in /usr/local/lib/python3.7/dist-packages (from requests>=2.1.0->twython) (3.0.4)\n",
            "Requirement already satisfied: idna<3,>=2.5 in /usr/local/lib/python3.7/dist-packages (from requests>=2.1.0->twython) (2.10)\n",
            "Requirement already satisfied: certifi>=2017.4.17 in /usr/local/lib/python3.7/dist-packages (from requests>=2.1.0->twython) (2021.5.30)\n",
            "Requirement already satisfied: oauthlib>=3.0.0 in /usr/local/lib/python3.7/dist-packages (from requests-oauthlib>=0.4.0->twython) (3.1.1)\n"
          ]
        }
      ]
    },
    {
      "cell_type": "markdown",
      "metadata": {
        "id": "_VnPpywuvHwS"
      },
      "source": [
        "**Extracting SENSEX (S&P BSE SENSEX) dataset**"
      ]
    },
    {
      "cell_type": "code",
      "metadata": {
        "id": "GEknR3_xbWm1",
        "colab": {
          "base_uri": "https://localhost:8080/"
        },
        "outputId": "9da68084-fb96-4d03-a44c-2c9e4485a837"
      },
      "source": [
        "from google.colab import drive\n",
        "drive.mount('/content/drive')"
      ],
      "execution_count": 99,
      "outputs": [
        {
          "output_type": "stream",
          "name": "stdout",
          "text": [
            "Drive already mounted at /content/drive; to attempt to forcibly remount, call drive.mount(\"/content/drive\", force_remount=True).\n"
          ]
        }
      ]
    },
    {
      "cell_type": "code",
      "metadata": {
        "id": "vCcinbWfuHSm"
      },
      "source": [
        "data1 = pd.read_csv('/content/drive/MyDrive/Colab Notebooks/Task-2/Dataset.csv')"
      ],
      "execution_count": 100,
      "outputs": []
    },
    {
      "cell_type": "markdown",
      "metadata": {
        "id": "uE9VwVpa02_2"
      },
      "source": [
        "**EDA And Data Visualization**"
      ]
    },
    {
      "cell_type": "code",
      "metadata": {
        "colab": {
          "base_uri": "https://localhost:8080/",
          "height": 204
        },
        "id": "5Xf7Ckg502RR",
        "outputId": "d6ea33ae-e27b-4cd2-9b02-6540ed4e5b63"
      },
      "source": [
        "data1.head()"
      ],
      "execution_count": 101,
      "outputs": [
        {
          "output_type": "execute_result",
          "data": {
            "text/html": [
              "<div>\n",
              "<style scoped>\n",
              "    .dataframe tbody tr th:only-of-type {\n",
              "        vertical-align: middle;\n",
              "    }\n",
              "\n",
              "    .dataframe tbody tr th {\n",
              "        vertical-align: top;\n",
              "    }\n",
              "\n",
              "    .dataframe thead th {\n",
              "        text-align: right;\n",
              "    }\n",
              "</style>\n",
              "<table border=\"1\" class=\"dataframe\">\n",
              "  <thead>\n",
              "    <tr style=\"text-align: right;\">\n",
              "      <th></th>\n",
              "      <th>Date</th>\n",
              "      <th>Open</th>\n",
              "      <th>High</th>\n",
              "      <th>Low</th>\n",
              "      <th>Close</th>\n",
              "      <th>Adj Close</th>\n",
              "      <th>Volume</th>\n",
              "    </tr>\n",
              "  </thead>\n",
              "  <tbody>\n",
              "    <tr>\n",
              "      <th>0</th>\n",
              "      <td>2001-01-02</td>\n",
              "      <td>483.549988</td>\n",
              "      <td>483.549988</td>\n",
              "      <td>461.380005</td>\n",
              "      <td>462.489990</td>\n",
              "      <td>462.489990</td>\n",
              "      <td>1129400000</td>\n",
              "    </tr>\n",
              "    <tr>\n",
              "      <th>1</th>\n",
              "      <td>2001-01-03</td>\n",
              "      <td>462.489990</td>\n",
              "      <td>484.390015</td>\n",
              "      <td>459.279999</td>\n",
              "      <td>484.390015</td>\n",
              "      <td>484.390015</td>\n",
              "      <td>188070000</td>\n",
              "    </tr>\n",
              "    <tr>\n",
              "      <th>2</th>\n",
              "      <td>2001-01-04</td>\n",
              "      <td>484.390015</td>\n",
              "      <td>484.390015</td>\n",
              "      <td>475.899994</td>\n",
              "      <td>477.200012</td>\n",
              "      <td>477.200012</td>\n",
              "      <td>216940000</td>\n",
              "    </tr>\n",
              "    <tr>\n",
              "      <th>3</th>\n",
              "      <td>2001-01-05</td>\n",
              "      <td>477.200012</td>\n",
              "      <td>477.309998</td>\n",
              "      <td>461.760010</td>\n",
              "      <td>463.140015</td>\n",
              "      <td>463.140015</td>\n",
              "      <td>1430800000</td>\n",
              "    </tr>\n",
              "    <tr>\n",
              "      <th>4</th>\n",
              "      <td>2001-01-08</td>\n",
              "      <td>463.140015</td>\n",
              "      <td>463.140015</td>\n",
              "      <td>457.559998</td>\n",
              "      <td>461.640015</td>\n",
              "      <td>461.640015</td>\n",
              "      <td>1115500000</td>\n",
              "    </tr>\n",
              "  </tbody>\n",
              "</table>\n",
              "</div>"
            ],
            "text/plain": [
              "         Date        Open        High  ...       Close   Adj Close      Volume\n",
              "0  2001-01-02  483.549988  483.549988  ...  462.489990  462.489990  1129400000\n",
              "1  2001-01-03  462.489990  484.390015  ...  484.390015  484.390015   188070000\n",
              "2  2001-01-04  484.390015  484.390015  ...  477.200012  477.200012   216940000\n",
              "3  2001-01-05  477.200012  477.309998  ...  463.140015  463.140015  1430800000\n",
              "4  2001-01-08  463.140015  463.140015  ...  461.640015  461.640015  1115500000\n",
              "\n",
              "[5 rows x 7 columns]"
            ]
          },
          "metadata": {},
          "execution_count": 101
        }
      ]
    },
    {
      "cell_type": "code",
      "metadata": {
        "colab": {
          "base_uri": "https://localhost:8080/",
          "height": 204
        },
        "id": "CDjIznTXsnup",
        "outputId": "21990e23-6e2d-471c-de98-df53759f8fd9"
      },
      "source": [
        "data1.tail()"
      ],
      "execution_count": 102,
      "outputs": [
        {
          "output_type": "execute_result",
          "data": {
            "text/html": [
              "<div>\n",
              "<style scoped>\n",
              "    .dataframe tbody tr th:only-of-type {\n",
              "        vertical-align: middle;\n",
              "    }\n",
              "\n",
              "    .dataframe tbody tr th {\n",
              "        vertical-align: top;\n",
              "    }\n",
              "\n",
              "    .dataframe thead th {\n",
              "        text-align: right;\n",
              "    }\n",
              "</style>\n",
              "<table border=\"1\" class=\"dataframe\">\n",
              "  <thead>\n",
              "    <tr style=\"text-align: right;\">\n",
              "      <th></th>\n",
              "      <th>Date</th>\n",
              "      <th>Open</th>\n",
              "      <th>High</th>\n",
              "      <th>Low</th>\n",
              "      <th>Close</th>\n",
              "      <th>Adj Close</th>\n",
              "      <th>Volume</th>\n",
              "    </tr>\n",
              "  </thead>\n",
              "  <tbody>\n",
              "    <tr>\n",
              "      <th>2524</th>\n",
              "      <td>2011-01-14</td>\n",
              "      <td>800.650024</td>\n",
              "      <td>807.890015</td>\n",
              "      <td>799.049988</td>\n",
              "      <td>807.570007</td>\n",
              "      <td>807.570007</td>\n",
              "      <td>4661590000</td>\n",
              "    </tr>\n",
              "    <tr>\n",
              "      <th>2525</th>\n",
              "      <td>2011-01-18</td>\n",
              "      <td>807.570007</td>\n",
              "      <td>807.659973</td>\n",
              "      <td>801.039978</td>\n",
              "      <td>807.559998</td>\n",
              "      <td>807.559998</td>\n",
              "      <td>5284990000</td>\n",
              "    </tr>\n",
              "    <tr>\n",
              "      <th>2526</th>\n",
              "      <td>2011-01-19</td>\n",
              "      <td>806.679993</td>\n",
              "      <td>807.210022</td>\n",
              "      <td>785.849976</td>\n",
              "      <td>786.890015</td>\n",
              "      <td>786.890015</td>\n",
              "      <td>4743710000</td>\n",
              "    </tr>\n",
              "    <tr>\n",
              "      <th>2527</th>\n",
              "      <td>2011-01-20</td>\n",
              "      <td>781.960022</td>\n",
              "      <td>785.780029</td>\n",
              "      <td>775.580017</td>\n",
              "      <td>778.080017</td>\n",
              "      <td>778.080017</td>\n",
              "      <td>4935320000</td>\n",
              "    </tr>\n",
              "    <tr>\n",
              "      <th>2528</th>\n",
              "      <td>2011-01-21</td>\n",
              "      <td>781.960022</td>\n",
              "      <td>786.890015</td>\n",
              "      <td>773.119995</td>\n",
              "      <td>773.179993</td>\n",
              "      <td>773.179993</td>\n",
              "      <td>4935320000</td>\n",
              "    </tr>\n",
              "  </tbody>\n",
              "</table>\n",
              "</div>"
            ],
            "text/plain": [
              "            Date        Open        High  ...       Close   Adj Close      Volume\n",
              "2524  2011-01-14  800.650024  807.890015  ...  807.570007  807.570007  4661590000\n",
              "2525  2011-01-18  807.570007  807.659973  ...  807.559998  807.559998  5284990000\n",
              "2526  2011-01-19  806.679993  807.210022  ...  786.890015  786.890015  4743710000\n",
              "2527  2011-01-20  781.960022  785.780029  ...  778.080017  778.080017  4935320000\n",
              "2528  2011-01-21  781.960022  786.890015  ...  773.179993  773.179993  4935320000\n",
              "\n",
              "[5 rows x 7 columns]"
            ]
          },
          "metadata": {},
          "execution_count": 102
        }
      ]
    },
    {
      "cell_type": "code",
      "metadata": {
        "colab": {
          "base_uri": "https://localhost:8080/",
          "height": 500
        },
        "id": "h94frvF90y6X",
        "outputId": "db8095df-f505-4aa4-8745-241389edc9d2"
      },
      "source": [
        "data1[['High','Low','Open','Close']].plot(figsize=(20,8))"
      ],
      "execution_count": 103,
      "outputs": [
        {
          "output_type": "execute_result",
          "data": {
            "text/plain": [
              "<matplotlib.axes._subplots.AxesSubplot at 0x7f8ffe849ed0>"
            ]
          },
          "metadata": {},
          "execution_count": 103
        },
        {
          "output_type": "display_data",
          "data": {
            "image/png": "[encoded data removed]",
            "text/plain": [
              "<Figure size 1440x576 with 1 Axes>"
            ]
          },
          "metadata": {
            "needs_background": "light"
          }
        }
      ]
    },
    {
      "cell_type": "code",
      "metadata": {
        "colab": {
          "base_uri": "https://localhost:8080/",
          "height": 511
        },
        "id": "58VPhrTq0zDA",
        "outputId": "cdd07f8b-f12b-4009-9492-8fcef64239c8"
      },
      "source": [
        "data1['Volume'].plot(figsize=(20,8))"
      ],
      "execution_count": 104,
      "outputs": [
        {
          "output_type": "execute_result",
          "data": {
            "text/plain": [
              "<matplotlib.axes._subplots.AxesSubplot at 0x7f8fff1e1490>"
            ]
          },
          "metadata": {},
          "execution_count": 104
        },
        {
          "output_type": "display_data",
          "data": {
            "image/png": "[encoded data removed]",
            "text/plain": [
              "<Figure size 1440x576 with 1 Axes>"
            ]
          },
          "metadata": {
            "needs_background": "light"
          }
        }
      ]
    },
    {
      "cell_type": "markdown",
      "metadata": {
        "id": "3MO_206P1Vw7"
      },
      "source": [
        "**Extraction News Headline Dataset**"
      ]
    },
    {
      "cell_type": "code",
      "metadata": {
        "colab": {
          "base_uri": "https://localhost:8080/",
          "height": 204
        },
        "id": "5izcwc061Pee",
        "outputId": "368b4b0e-f8f9-463c-f61e-37a8548587ab"
      },
      "source": [
        "data2 = pd.read_csv('/content/drive/MyDrive/Colab Notebooks/Task-2/india-news-headlines.csv')\n",
        "data2.head()"
      ],
      "execution_count": 105,
      "outputs": [
        {
          "output_type": "execute_result",
          "data": {
            "text/html": [
              "<div>\n",
              "<style scoped>\n",
              "    .dataframe tbody tr th:only-of-type {\n",
              "        vertical-align: middle;\n",
              "    }\n",
              "\n",
              "    .dataframe tbody tr th {\n",
              "        vertical-align: top;\n",
              "    }\n",
              "\n",
              "    .dataframe thead th {\n",
              "        text-align: right;\n",
              "    }\n",
              "</style>\n",
              "<table border=\"1\" class=\"dataframe\">\n",
              "  <thead>\n",
              "    <tr style=\"text-align: right;\">\n",
              "      <th></th>\n",
              "      <th>publish_date</th>\n",
              "      <th>headline_category</th>\n",
              "      <th>headline_text</th>\n",
              "    </tr>\n",
              "  </thead>\n",
              "  <tbody>\n",
              "    <tr>\n",
              "      <th>0</th>\n",
              "      <td>20010102</td>\n",
              "      <td>unknown</td>\n",
              "      <td>Status quo will not be disturbed at Ayodhya; s...</td>\n",
              "    </tr>\n",
              "    <tr>\n",
              "      <th>1</th>\n",
              "      <td>20010102</td>\n",
              "      <td>unknown</td>\n",
              "      <td>Fissures in Hurriyat over Pak visit</td>\n",
              "    </tr>\n",
              "    <tr>\n",
              "      <th>2</th>\n",
              "      <td>20010102</td>\n",
              "      <td>unknown</td>\n",
              "      <td>America's unwanted heading for India?</td>\n",
              "    </tr>\n",
              "    <tr>\n",
              "      <th>3</th>\n",
              "      <td>20010102</td>\n",
              "      <td>unknown</td>\n",
              "      <td>For bigwigs; it is destination Goa</td>\n",
              "    </tr>\n",
              "    <tr>\n",
              "      <th>4</th>\n",
              "      <td>20010102</td>\n",
              "      <td>unknown</td>\n",
              "      <td>Extra buses to clear tourist traffic</td>\n",
              "    </tr>\n",
              "  </tbody>\n",
              "</table>\n",
              "</div>"
            ],
            "text/plain": [
              "   publish_date  ...                                      headline_text\n",
              "0      20010102  ...  Status quo will not be disturbed at Ayodhya; s...\n",
              "1      20010102  ...                Fissures in Hurriyat over Pak visit\n",
              "2      20010102  ...              America's unwanted heading for India?\n",
              "3      20010102  ...                 For bigwigs; it is destination Goa\n",
              "4      20010102  ...               Extra buses to clear tourist traffic\n",
              "\n",
              "[5 rows x 3 columns]"
            ]
          },
          "metadata": {},
          "execution_count": 105
        }
      ]
    },
    {
      "cell_type": "code",
      "metadata": {
        "colab": {
          "base_uri": "https://localhost:8080/",
          "height": 204
        },
        "id": "86rxPl6Y1Pid",
        "outputId": "c1bd7681-543c-4605-c466-3b141cbc5a42"
      },
      "source": [
        "data2=data2.rename(columns={'publish_date':'Date'})\n",
        "data2.head()"
      ],
      "execution_count": 106,
      "outputs": [
        {
          "output_type": "execute_result",
          "data": {
            "text/html": [
              "<div>\n",
              "<style scoped>\n",
              "    .dataframe tbody tr th:only-of-type {\n",
              "        vertical-align: middle;\n",
              "    }\n",
              "\n",
              "    .dataframe tbody tr th {\n",
              "        vertical-align: top;\n",
              "    }\n",
              "\n",
              "    .dataframe thead th {\n",
              "        text-align: right;\n",
              "    }\n",
              "</style>\n",
              "<table border=\"1\" class=\"dataframe\">\n",
              "  <thead>\n",
              "    <tr style=\"text-align: right;\">\n",
              "      <th></th>\n",
              "      <th>Date</th>\n",
              "      <th>headline_category</th>\n",
              "      <th>headline_text</th>\n",
              "    </tr>\n",
              "  </thead>\n",
              "  <tbody>\n",
              "    <tr>\n",
              "      <th>0</th>\n",
              "      <td>20010102</td>\n",
              "      <td>unknown</td>\n",
              "      <td>Status quo will not be disturbed at Ayodhya; s...</td>\n",
              "    </tr>\n",
              "    <tr>\n",
              "      <th>1</th>\n",
              "      <td>20010102</td>\n",
              "      <td>unknown</td>\n",
              "      <td>Fissures in Hurriyat over Pak visit</td>\n",
              "    </tr>\n",
              "    <tr>\n",
              "      <th>2</th>\n",
              "      <td>20010102</td>\n",
              "      <td>unknown</td>\n",
              "      <td>America's unwanted heading for India?</td>\n",
              "    </tr>\n",
              "    <tr>\n",
              "      <th>3</th>\n",
              "      <td>20010102</td>\n",
              "      <td>unknown</td>\n",
              "      <td>For bigwigs; it is destination Goa</td>\n",
              "    </tr>\n",
              "    <tr>\n",
              "      <th>4</th>\n",
              "      <td>20010102</td>\n",
              "      <td>unknown</td>\n",
              "      <td>Extra buses to clear tourist traffic</td>\n",
              "    </tr>\n",
              "  </tbody>\n",
              "</table>\n",
              "</div>"
            ],
            "text/plain": [
              "       Date  ...                                      headline_text\n",
              "0  20010102  ...  Status quo will not be disturbed at Ayodhya; s...\n",
              "1  20010102  ...                Fissures in Hurriyat over Pak visit\n",
              "2  20010102  ...              America's unwanted heading for India?\n",
              "3  20010102  ...                 For bigwigs; it is destination Goa\n",
              "4  20010102  ...               Extra buses to clear tourist traffic\n",
              "\n",
              "[5 rows x 3 columns]"
            ]
          },
          "metadata": {},
          "execution_count": 106
        }
      ]
    },
    {
      "cell_type": "code",
      "metadata": {
        "colab": {
          "base_uri": "https://localhost:8080/",
          "height": 204
        },
        "id": "wk9RATxgK4RF",
        "outputId": "4721be9a-718c-43af-c95c-086708b7e25d"
      },
      "source": [
        "data2.tail()"
      ],
      "execution_count": 107,
      "outputs": [
        {
          "output_type": "execute_result",
          "data": {
            "text/html": [
              "<div>\n",
              "<style scoped>\n",
              "    .dataframe tbody tr th:only-of-type {\n",
              "        vertical-align: middle;\n",
              "    }\n",
              "\n",
              "    .dataframe tbody tr th {\n",
              "        vertical-align: top;\n",
              "    }\n",
              "\n",
              "    .dataframe thead th {\n",
              "        text-align: right;\n",
              "    }\n",
              "</style>\n",
              "<table border=\"1\" class=\"dataframe\">\n",
              "  <thead>\n",
              "    <tr style=\"text-align: right;\">\n",
              "      <th></th>\n",
              "      <th>Date</th>\n",
              "      <th>headline_category</th>\n",
              "      <th>headline_text</th>\n",
              "    </tr>\n",
              "  </thead>\n",
              "  <tbody>\n",
              "    <tr>\n",
              "      <th>3424062</th>\n",
              "      <td>20201231</td>\n",
              "      <td>city.jodhpur</td>\n",
              "      <td>Covid-19: Despite dip in cases; Rajasthan amon...</td>\n",
              "    </tr>\n",
              "    <tr>\n",
              "      <th>3424063</th>\n",
              "      <td>20201231</td>\n",
              "      <td>city.udaipur</td>\n",
              "      <td>Covid-19: Despite dip in cases; Rajasthan amon...</td>\n",
              "    </tr>\n",
              "    <tr>\n",
              "      <th>3424064</th>\n",
              "      <td>20201231</td>\n",
              "      <td>city.ajmer</td>\n",
              "      <td>Covid-19: Despite dip in cases; Rajasthan amon...</td>\n",
              "    </tr>\n",
              "    <tr>\n",
              "      <th>3424065</th>\n",
              "      <td>20201231</td>\n",
              "      <td>removed</td>\n",
              "      <td>Govt extends deadline for use of FASTag till F...</td>\n",
              "    </tr>\n",
              "    <tr>\n",
              "      <th>3424066</th>\n",
              "      <td>20201231</td>\n",
              "      <td>entertainment.bengali.movies.news</td>\n",
              "      <td>Celebs plan to party safely and responsibly on...</td>\n",
              "    </tr>\n",
              "  </tbody>\n",
              "</table>\n",
              "</div>"
            ],
            "text/plain": [
              "             Date  ...                                      headline_text\n",
              "3424062  20201231  ...  Covid-19: Despite dip in cases; Rajasthan amon...\n",
              "3424063  20201231  ...  Covid-19: Despite dip in cases; Rajasthan amon...\n",
              "3424064  20201231  ...  Covid-19: Despite dip in cases; Rajasthan amon...\n",
              "3424065  20201231  ...  Govt extends deadline for use of FASTag till F...\n",
              "3424066  20201231  ...  Celebs plan to party safely and responsibly on...\n",
              "\n",
              "[5 rows x 3 columns]"
            ]
          },
          "metadata": {},
          "execution_count": 107
        }
      ]
    },
    {
      "cell_type": "code",
      "metadata": {
        "colab": {
          "base_uri": "https://localhost:8080/",
          "height": 204
        },
        "id": "QX-yTmLo1Pml",
        "outputId": "4bbfa482-7a0b-430d-bace-51f4ba25ff3a"
      },
      "source": [
        "data2['Date']=pd.to_datetime(data2['Date'],format='%Y%m%d')\n",
        "data2=data2.drop('headline_category',axis=1)\n",
        "data2.head(5)"
      ],
      "execution_count": 108,
      "outputs": [
        {
          "output_type": "execute_result",
          "data": {
            "text/html": [
              "<div>\n",
              "<style scoped>\n",
              "    .dataframe tbody tr th:only-of-type {\n",
              "        vertical-align: middle;\n",
              "    }\n",
              "\n",
              "    .dataframe tbody tr th {\n",
              "        vertical-align: top;\n",
              "    }\n",
              "\n",
              "    .dataframe thead th {\n",
              "        text-align: right;\n",
              "    }\n",
              "</style>\n",
              "<table border=\"1\" class=\"dataframe\">\n",
              "  <thead>\n",
              "    <tr style=\"text-align: right;\">\n",
              "      <th></th>\n",
              "      <th>Date</th>\n",
              "      <th>headline_text</th>\n",
              "    </tr>\n",
              "  </thead>\n",
              "  <tbody>\n",
              "    <tr>\n",
              "      <th>0</th>\n",
              "      <td>2001-01-02</td>\n",
              "      <td>Status quo will not be disturbed at Ayodhya; s...</td>\n",
              "    </tr>\n",
              "    <tr>\n",
              "      <th>1</th>\n",
              "      <td>2001-01-02</td>\n",
              "      <td>Fissures in Hurriyat over Pak visit</td>\n",
              "    </tr>\n",
              "    <tr>\n",
              "      <th>2</th>\n",
              "      <td>2001-01-02</td>\n",
              "      <td>America's unwanted heading for India?</td>\n",
              "    </tr>\n",
              "    <tr>\n",
              "      <th>3</th>\n",
              "      <td>2001-01-02</td>\n",
              "      <td>For bigwigs; it is destination Goa</td>\n",
              "    </tr>\n",
              "    <tr>\n",
              "      <th>4</th>\n",
              "      <td>2001-01-02</td>\n",
              "      <td>Extra buses to clear tourist traffic</td>\n",
              "    </tr>\n",
              "  </tbody>\n",
              "</table>\n",
              "</div>"
            ],
            "text/plain": [
              "        Date                                      headline_text\n",
              "0 2001-01-02  Status quo will not be disturbed at Ayodhya; s...\n",
              "1 2001-01-02                Fissures in Hurriyat over Pak visit\n",
              "2 2001-01-02              America's unwanted heading for India?\n",
              "3 2001-01-02                 For bigwigs; it is destination Goa\n",
              "4 2001-01-02               Extra buses to clear tourist traffic"
            ]
          },
          "metadata": {},
          "execution_count": 108
        }
      ]
    },
    {
      "cell_type": "code",
      "metadata": {
        "colab": {
          "base_uri": "https://localhost:8080/",
          "height": 204
        },
        "id": "iBn3nuuM1Puj",
        "outputId": "c699a57e-8fa0-4ee6-efd6-92794d112a49"
      },
      "source": [
        "data2=data2[data2['Date']<='2011-01-21']\n",
        "data2['Date']=pd.to_datetime(data2['Date']) \n",
        "data2.head()"
      ],
      "execution_count": 109,
      "outputs": [
        {
          "output_type": "execute_result",
          "data": {
            "text/html": [
              "<div>\n",
              "<style scoped>\n",
              "    .dataframe tbody tr th:only-of-type {\n",
              "        vertical-align: middle;\n",
              "    }\n",
              "\n",
              "    .dataframe tbody tr th {\n",
              "        vertical-align: top;\n",
              "    }\n",
              "\n",
              "    .dataframe thead th {\n",
              "        text-align: right;\n",
              "    }\n",
              "</style>\n",
              "<table border=\"1\" class=\"dataframe\">\n",
              "  <thead>\n",
              "    <tr style=\"text-align: right;\">\n",
              "      <th></th>\n",
              "      <th>Date</th>\n",
              "      <th>headline_text</th>\n",
              "    </tr>\n",
              "  </thead>\n",
              "  <tbody>\n",
              "    <tr>\n",
              "      <th>0</th>\n",
              "      <td>2001-01-02</td>\n",
              "      <td>Status quo will not be disturbed at Ayodhya; s...</td>\n",
              "    </tr>\n",
              "    <tr>\n",
              "      <th>1</th>\n",
              "      <td>2001-01-02</td>\n",
              "      <td>Fissures in Hurriyat over Pak visit</td>\n",
              "    </tr>\n",
              "    <tr>\n",
              "      <th>2</th>\n",
              "      <td>2001-01-02</td>\n",
              "      <td>America's unwanted heading for India?</td>\n",
              "    </tr>\n",
              "    <tr>\n",
              "      <th>3</th>\n",
              "      <td>2001-01-02</td>\n",
              "      <td>For bigwigs; it is destination Goa</td>\n",
              "    </tr>\n",
              "    <tr>\n",
              "      <th>4</th>\n",
              "      <td>2001-01-02</td>\n",
              "      <td>Extra buses to clear tourist traffic</td>\n",
              "    </tr>\n",
              "  </tbody>\n",
              "</table>\n",
              "</div>"
            ],
            "text/plain": [
              "        Date                                      headline_text\n",
              "0 2001-01-02  Status quo will not be disturbed at Ayodhya; s...\n",
              "1 2001-01-02                Fissures in Hurriyat over Pak visit\n",
              "2 2001-01-02              America's unwanted heading for India?\n",
              "3 2001-01-02                 For bigwigs; it is destination Goa\n",
              "4 2001-01-02               Extra buses to clear tourist traffic"
            ]
          },
          "metadata": {},
          "execution_count": 109
        }
      ]
    },
    {
      "cell_type": "code",
      "metadata": {
        "colab": {
          "base_uri": "https://localhost:8080/",
          "height": 204
        },
        "id": "jRZWw7Tc0zIp",
        "outputId": "22e48afb-017c-405b-b6da-da975f189d19"
      },
      "source": [
        "data2.tail()"
      ],
      "execution_count": 110,
      "outputs": [
        {
          "output_type": "execute_result",
          "data": {
            "text/html": [
              "<div>\n",
              "<style scoped>\n",
              "    .dataframe tbody tr th:only-of-type {\n",
              "        vertical-align: middle;\n",
              "    }\n",
              "\n",
              "    .dataframe tbody tr th {\n",
              "        vertical-align: top;\n",
              "    }\n",
              "\n",
              "    .dataframe thead th {\n",
              "        text-align: right;\n",
              "    }\n",
              "</style>\n",
              "<table border=\"1\" class=\"dataframe\">\n",
              "  <thead>\n",
              "    <tr style=\"text-align: right;\">\n",
              "      <th></th>\n",
              "      <th>Date</th>\n",
              "      <th>headline_text</th>\n",
              "    </tr>\n",
              "  </thead>\n",
              "  <tbody>\n",
              "    <tr>\n",
              "      <th>1047556</th>\n",
              "      <td>2011-01-21</td>\n",
              "      <td>Protest against Omar's remarks</td>\n",
              "    </tr>\n",
              "    <tr>\n",
              "      <th>1047557</th>\n",
              "      <td>2011-01-21</td>\n",
              "      <td>PAU students continue agitation</td>\n",
              "    </tr>\n",
              "    <tr>\n",
              "      <th>1047558</th>\n",
              "      <td>2011-01-21</td>\n",
              "      <td>Self-employment Day marked</td>\n",
              "    </tr>\n",
              "    <tr>\n",
              "      <th>1047559</th>\n",
              "      <td>2011-01-21</td>\n",
              "      <td>Govt school lecturers negligent: monitoring te...</td>\n",
              "    </tr>\n",
              "    <tr>\n",
              "      <th>1047560</th>\n",
              "      <td>2011-01-21</td>\n",
              "      <td>1;303 nominations received for Padma Awards 2011</td>\n",
              "    </tr>\n",
              "  </tbody>\n",
              "</table>\n",
              "</div>"
            ],
            "text/plain": [
              "              Date                                      headline_text\n",
              "1047556 2011-01-21                     Protest against Omar's remarks\n",
              "1047557 2011-01-21                    PAU students continue agitation\n",
              "1047558 2011-01-21                         Self-employment Day marked\n",
              "1047559 2011-01-21  Govt school lecturers negligent: monitoring te...\n",
              "1047560 2011-01-21   1;303 nominations received for Padma Awards 2011"
            ]
          },
          "metadata": {},
          "execution_count": 110
        }
      ]
    },
    {
      "cell_type": "code",
      "metadata": {
        "colab": {
          "base_uri": "https://localhost:8080/",
          "height": 419
        },
        "id": "74v-KBJEpzdE",
        "outputId": "5758d8fb-11fc-4643-ecab-82eaa03d6fb0"
      },
      "source": [
        "data2['headline_text']=data2.groupby(['Date']).transform(lambda x: ' '.join(x))\n",
        "data2=data2.drop_duplicates()\n",
        "data2.reset_index()"
      ],
      "execution_count": 111,
      "outputs": [
        {
          "output_type": "execute_result",
          "data": {
            "text/html": [
              "<div>\n",
              "<style scoped>\n",
              "    .dataframe tbody tr th:only-of-type {\n",
              "        vertical-align: middle;\n",
              "    }\n",
              "\n",
              "    .dataframe tbody tr th {\n",
              "        vertical-align: top;\n",
              "    }\n",
              "\n",
              "    .dataframe thead th {\n",
              "        text-align: right;\n",
              "    }\n",
              "</style>\n",
              "<table border=\"1\" class=\"dataframe\">\n",
              "  <thead>\n",
              "    <tr style=\"text-align: right;\">\n",
              "      <th></th>\n",
              "      <th>index</th>\n",
              "      <th>Date</th>\n",
              "      <th>headline_text</th>\n",
              "    </tr>\n",
              "  </thead>\n",
              "  <tbody>\n",
              "    <tr>\n",
              "      <th>0</th>\n",
              "      <td>0</td>\n",
              "      <td>2001-01-02</td>\n",
              "      <td>Status quo will not be disturbed at Ayodhya; s...</td>\n",
              "    </tr>\n",
              "    <tr>\n",
              "      <th>1</th>\n",
              "      <td>86</td>\n",
              "      <td>2001-01-03</td>\n",
              "      <td>Powerless north India gropes in the dark Think...</td>\n",
              "    </tr>\n",
              "    <tr>\n",
              "      <th>2</th>\n",
              "      <td>127</td>\n",
              "      <td>2001-01-04</td>\n",
              "      <td>The string that pulled Stephen Hawking to Indi...</td>\n",
              "    </tr>\n",
              "    <tr>\n",
              "      <th>3</th>\n",
              "      <td>280</td>\n",
              "      <td>2001-01-05</td>\n",
              "      <td>Light combat craft takes India into club class...</td>\n",
              "    </tr>\n",
              "    <tr>\n",
              "      <th>4</th>\n",
              "      <td>406</td>\n",
              "      <td>2001-01-06</td>\n",
              "      <td>Light combat craft takes India into club class...</td>\n",
              "    </tr>\n",
              "    <tr>\n",
              "      <th>...</th>\n",
              "      <td>...</td>\n",
              "      <td>...</td>\n",
              "      <td>...</td>\n",
              "    </tr>\n",
              "    <tr>\n",
              "      <th>3625</th>\n",
              "      <td>1044084</td>\n",
              "      <td>2011-01-17</td>\n",
              "      <td>Older brother in the dark about sibling's deat...</td>\n",
              "    </tr>\n",
              "    <tr>\n",
              "      <th>3626</th>\n",
              "      <td>1044772</td>\n",
              "      <td>2011-01-18</td>\n",
              "      <td>Top sex mistakes men make No alcohol for 6-pac...</td>\n",
              "    </tr>\n",
              "    <tr>\n",
              "      <th>3627</th>\n",
              "      <td>1045470</td>\n",
              "      <td>2011-01-19</td>\n",
              "      <td>My ex doesn't want me: Pratik Saali is not a g...</td>\n",
              "    </tr>\n",
              "    <tr>\n",
              "      <th>3628</th>\n",
              "      <td>1046166</td>\n",
              "      <td>2011-01-20</td>\n",
              "      <td>Neetu Chandra denies going panty-less! Aishwar...</td>\n",
              "    </tr>\n",
              "    <tr>\n",
              "      <th>3629</th>\n",
              "      <td>1046864</td>\n",
              "      <td>2011-01-21</td>\n",
              "      <td>Giving the kids a dressing up AK Hangal's ill ...</td>\n",
              "    </tr>\n",
              "  </tbody>\n",
              "</table>\n",
              "<p>3630 rows × 3 columns</p>\n",
              "</div>"
            ],
            "text/plain": [
              "        index       Date                                      headline_text\n",
              "0           0 2001-01-02  Status quo will not be disturbed at Ayodhya; s...\n",
              "1          86 2001-01-03  Powerless north India gropes in the dark Think...\n",
              "2         127 2001-01-04  The string that pulled Stephen Hawking to Indi...\n",
              "3         280 2001-01-05  Light combat craft takes India into club class...\n",
              "4         406 2001-01-06  Light combat craft takes India into club class...\n",
              "...       ...        ...                                                ...\n",
              "3625  1044084 2011-01-17  Older brother in the dark about sibling's deat...\n",
              "3626  1044772 2011-01-18  Top sex mistakes men make No alcohol for 6-pac...\n",
              "3627  1045470 2011-01-19  My ex doesn't want me: Pratik Saali is not a g...\n",
              "3628  1046166 2011-01-20  Neetu Chandra denies going panty-less! Aishwar...\n",
              "3629  1046864 2011-01-21  Giving the kids a dressing up AK Hangal's ill ...\n",
              "\n",
              "[3630 rows x 3 columns]"
            ]
          },
          "metadata": {},
          "execution_count": 111
        }
      ]
    },
    {
      "cell_type": "code",
      "metadata": {
        "colab": {
          "base_uri": "https://localhost:8080/",
          "height": 204
        },
        "id": "ZwjO3e_ZrWfx",
        "outputId": "8488c4f1-b52e-471c-b6f6-267077e214cd"
      },
      "source": [
        "data1=data1[data1['Date']<='2011-01-21']\n",
        "data1['Date']=pd.to_datetime(data1['Date']) \n",
        "data1.head()"
      ],
      "execution_count": 112,
      "outputs": [
        {
          "output_type": "execute_result",
          "data": {
            "text/html": [
              "<div>\n",
              "<style scoped>\n",
              "    .dataframe tbody tr th:only-of-type {\n",
              "        vertical-align: middle;\n",
              "    }\n",
              "\n",
              "    .dataframe tbody tr th {\n",
              "        vertical-align: top;\n",
              "    }\n",
              "\n",
              "    .dataframe thead th {\n",
              "        text-align: right;\n",
              "    }\n",
              "</style>\n",
              "<table border=\"1\" class=\"dataframe\">\n",
              "  <thead>\n",
              "    <tr style=\"text-align: right;\">\n",
              "      <th></th>\n",
              "      <th>Date</th>\n",
              "      <th>Open</th>\n",
              "      <th>High</th>\n",
              "      <th>Low</th>\n",
              "      <th>Close</th>\n",
              "      <th>Adj Close</th>\n",
              "      <th>Volume</th>\n",
              "    </tr>\n",
              "  </thead>\n",
              "  <tbody>\n",
              "    <tr>\n",
              "      <th>0</th>\n",
              "      <td>2001-01-02</td>\n",
              "      <td>483.549988</td>\n",
              "      <td>483.549988</td>\n",
              "      <td>461.380005</td>\n",
              "      <td>462.489990</td>\n",
              "      <td>462.489990</td>\n",
              "      <td>1129400000</td>\n",
              "    </tr>\n",
              "    <tr>\n",
              "      <th>1</th>\n",
              "      <td>2001-01-03</td>\n",
              "      <td>462.489990</td>\n",
              "      <td>484.390015</td>\n",
              "      <td>459.279999</td>\n",
              "      <td>484.390015</td>\n",
              "      <td>484.390015</td>\n",
              "      <td>188070000</td>\n",
              "    </tr>\n",
              "    <tr>\n",
              "      <th>2</th>\n",
              "      <td>2001-01-04</td>\n",
              "      <td>484.390015</td>\n",
              "      <td>484.390015</td>\n",
              "      <td>475.899994</td>\n",
              "      <td>477.200012</td>\n",
              "      <td>477.200012</td>\n",
              "      <td>216940000</td>\n",
              "    </tr>\n",
              "    <tr>\n",
              "      <th>3</th>\n",
              "      <td>2001-01-05</td>\n",
              "      <td>477.200012</td>\n",
              "      <td>477.309998</td>\n",
              "      <td>461.760010</td>\n",
              "      <td>463.140015</td>\n",
              "      <td>463.140015</td>\n",
              "      <td>1430800000</td>\n",
              "    </tr>\n",
              "    <tr>\n",
              "      <th>4</th>\n",
              "      <td>2001-01-08</td>\n",
              "      <td>463.140015</td>\n",
              "      <td>463.140015</td>\n",
              "      <td>457.559998</td>\n",
              "      <td>461.640015</td>\n",
              "      <td>461.640015</td>\n",
              "      <td>1115500000</td>\n",
              "    </tr>\n",
              "  </tbody>\n",
              "</table>\n",
              "</div>"
            ],
            "text/plain": [
              "        Date        Open        High  ...       Close   Adj Close      Volume\n",
              "0 2001-01-02  483.549988  483.549988  ...  462.489990  462.489990  1129400000\n",
              "1 2001-01-03  462.489990  484.390015  ...  484.390015  484.390015   188070000\n",
              "2 2001-01-04  484.390015  484.390015  ...  477.200012  477.200012   216940000\n",
              "3 2001-01-05  477.200012  477.309998  ...  463.140015  463.140015  1430800000\n",
              "4 2001-01-08  463.140015  463.140015  ...  461.640015  461.640015  1115500000\n",
              "\n",
              "[5 rows x 7 columns]"
            ]
          },
          "metadata": {},
          "execution_count": 112
        }
      ]
    },
    {
      "cell_type": "code",
      "metadata": {
        "colab": {
          "base_uri": "https://localhost:8080/",
          "height": 204
        },
        "id": "FyZiudNjrWll",
        "outputId": "81276826-51e0-4f15-cf42-e651cec14dd3"
      },
      "source": [
        "data1.tail()"
      ],
      "execution_count": 113,
      "outputs": [
        {
          "output_type": "execute_result",
          "data": {
            "text/html": [
              "<div>\n",
              "<style scoped>\n",
              "    .dataframe tbody tr th:only-of-type {\n",
              "        vertical-align: middle;\n",
              "    }\n",
              "\n",
              "    .dataframe tbody tr th {\n",
              "        vertical-align: top;\n",
              "    }\n",
              "\n",
              "    .dataframe thead th {\n",
              "        text-align: right;\n",
              "    }\n",
              "</style>\n",
              "<table border=\"1\" class=\"dataframe\">\n",
              "  <thead>\n",
              "    <tr style=\"text-align: right;\">\n",
              "      <th></th>\n",
              "      <th>Date</th>\n",
              "      <th>Open</th>\n",
              "      <th>High</th>\n",
              "      <th>Low</th>\n",
              "      <th>Close</th>\n",
              "      <th>Adj Close</th>\n",
              "      <th>Volume</th>\n",
              "    </tr>\n",
              "  </thead>\n",
              "  <tbody>\n",
              "    <tr>\n",
              "      <th>2524</th>\n",
              "      <td>2011-01-14</td>\n",
              "      <td>800.650024</td>\n",
              "      <td>807.890015</td>\n",
              "      <td>799.049988</td>\n",
              "      <td>807.570007</td>\n",
              "      <td>807.570007</td>\n",
              "      <td>4661590000</td>\n",
              "    </tr>\n",
              "    <tr>\n",
              "      <th>2525</th>\n",
              "      <td>2011-01-18</td>\n",
              "      <td>807.570007</td>\n",
              "      <td>807.659973</td>\n",
              "      <td>801.039978</td>\n",
              "      <td>807.559998</td>\n",
              "      <td>807.559998</td>\n",
              "      <td>5284990000</td>\n",
              "    </tr>\n",
              "    <tr>\n",
              "      <th>2526</th>\n",
              "      <td>2011-01-19</td>\n",
              "      <td>806.679993</td>\n",
              "      <td>807.210022</td>\n",
              "      <td>785.849976</td>\n",
              "      <td>786.890015</td>\n",
              "      <td>786.890015</td>\n",
              "      <td>4743710000</td>\n",
              "    </tr>\n",
              "    <tr>\n",
              "      <th>2527</th>\n",
              "      <td>2011-01-20</td>\n",
              "      <td>781.960022</td>\n",
              "      <td>785.780029</td>\n",
              "      <td>775.580017</td>\n",
              "      <td>778.080017</td>\n",
              "      <td>778.080017</td>\n",
              "      <td>4935320000</td>\n",
              "    </tr>\n",
              "    <tr>\n",
              "      <th>2528</th>\n",
              "      <td>2011-01-21</td>\n",
              "      <td>781.960022</td>\n",
              "      <td>786.890015</td>\n",
              "      <td>773.119995</td>\n",
              "      <td>773.179993</td>\n",
              "      <td>773.179993</td>\n",
              "      <td>4935320000</td>\n",
              "    </tr>\n",
              "  </tbody>\n",
              "</table>\n",
              "</div>"
            ],
            "text/plain": [
              "           Date        Open        High  ...       Close   Adj Close      Volume\n",
              "2524 2011-01-14  800.650024  807.890015  ...  807.570007  807.570007  4661590000\n",
              "2525 2011-01-18  807.570007  807.659973  ...  807.559998  807.559998  5284990000\n",
              "2526 2011-01-19  806.679993  807.210022  ...  786.890015  786.890015  4743710000\n",
              "2527 2011-01-20  781.960022  785.780029  ...  778.080017  778.080017  4935320000\n",
              "2528 2011-01-21  781.960022  786.890015  ...  773.179993  773.179993  4935320000\n",
              "\n",
              "[5 rows x 7 columns]"
            ]
          },
          "metadata": {},
          "execution_count": 113
        }
      ]
    },
    {
      "cell_type": "code",
      "metadata": {
        "colab": {
          "base_uri": "https://localhost:8080/"
        },
        "id": "a2_DCMK_vgNw",
        "outputId": "f7c61c06-0abe-49a8-baec-d39628eda53a"
      },
      "source": [
        "df2=data2.drop_duplicates()\n",
        "df2.duplicated().sum()"
      ],
      "execution_count": 114,
      "outputs": [
        {
          "output_type": "execute_result",
          "data": {
            "text/plain": [
              "0"
            ]
          },
          "metadata": {},
          "execution_count": 114
        }
      ]
    },
    {
      "cell_type": "markdown",
      "metadata": {
        "id": "2kvdwgz5cwMS"
      },
      "source": [
        "## **Sentimental Analysis On News Headlines**"
      ]
    },
    {
      "cell_type": "markdown",
      "metadata": {
        "id": "t2Or8ItsNAyT"
      },
      "source": [
        "**Number of words in each row**"
      ]
    },
    {
      "cell_type": "code",
      "metadata": {
        "colab": {
          "base_uri": "https://localhost:8080/",
          "height": 204
        },
        "id": "4po8eQ8MNCnE",
        "outputId": "a1b07641-abb2-43d6-fc10-20966b5dbe4d"
      },
      "source": [
        "df2['word_count'] = df2['headline_text'].apply(lambda x: len(str(x).split(\" \")))\n",
        "df2[['headline_text','word_count']].head()"
      ],
      "execution_count": 115,
      "outputs": [
        {
          "output_type": "execute_result",
          "data": {
            "text/html": [
              "<div>\n",
              "<style scoped>\n",
              "    .dataframe tbody tr th:only-of-type {\n",
              "        vertical-align: middle;\n",
              "    }\n",
              "\n",
              "    .dataframe tbody tr th {\n",
              "        vertical-align: top;\n",
              "    }\n",
              "\n",
              "    .dataframe thead th {\n",
              "        text-align: right;\n",
              "    }\n",
              "</style>\n",
              "<table border=\"1\" class=\"dataframe\">\n",
              "  <thead>\n",
              "    <tr style=\"text-align: right;\">\n",
              "      <th></th>\n",
              "      <th>headline_text</th>\n",
              "      <th>word_count</th>\n",
              "    </tr>\n",
              "  </thead>\n",
              "  <tbody>\n",
              "    <tr>\n",
              "      <th>0</th>\n",
              "      <td>Status quo will not be disturbed at Ayodhya; s...</td>\n",
              "      <td>550</td>\n",
              "    </tr>\n",
              "    <tr>\n",
              "      <th>86</th>\n",
              "      <td>Powerless north India gropes in the dark Think...</td>\n",
              "      <td>245</td>\n",
              "    </tr>\n",
              "    <tr>\n",
              "      <th>127</th>\n",
              "      <td>The string that pulled Stephen Hawking to Indi...</td>\n",
              "      <td>937</td>\n",
              "    </tr>\n",
              "    <tr>\n",
              "      <th>280</th>\n",
              "      <td>Light combat craft takes India into club class...</td>\n",
              "      <td>823</td>\n",
              "    </tr>\n",
              "    <tr>\n",
              "      <th>406</th>\n",
              "      <td>Light combat craft takes India into club class...</td>\n",
              "      <td>70</td>\n",
              "    </tr>\n",
              "  </tbody>\n",
              "</table>\n",
              "</div>"
            ],
            "text/plain": [
              "                                         headline_text  word_count\n",
              "0    Status quo will not be disturbed at Ayodhya; s...         550\n",
              "86   Powerless north India gropes in the dark Think...         245\n",
              "127  The string that pulled Stephen Hawking to Indi...         937\n",
              "280  Light combat craft takes India into club class...         823\n",
              "406  Light combat craft takes India into club class...          70"
            ]
          },
          "metadata": {},
          "execution_count": 115
        }
      ]
    },
    {
      "cell_type": "markdown",
      "metadata": {
        "id": "97XSX1ZWN72Y"
      },
      "source": [
        "**Number of Characters in each Statements from each row**"
      ]
    },
    {
      "cell_type": "code",
      "metadata": {
        "colab": {
          "base_uri": "https://localhost:8080/",
          "height": 204
        },
        "id": "nCX6EI17NCp4",
        "outputId": "db908985-6ea2-4a63-f00e-29a9ffc1a4a7"
      },
      "source": [
        "df2['char_count'] = df2['headline_text'].str.len()\n",
        "df2[['headline_text','char_count']].head()"
      ],
      "execution_count": 116,
      "outputs": [
        {
          "output_type": "execute_result",
          "data": {
            "text/html": [
              "<div>\n",
              "<style scoped>\n",
              "    .dataframe tbody tr th:only-of-type {\n",
              "        vertical-align: middle;\n",
              "    }\n",
              "\n",
              "    .dataframe tbody tr th {\n",
              "        vertical-align: top;\n",
              "    }\n",
              "\n",
              "    .dataframe thead th {\n",
              "        text-align: right;\n",
              "    }\n",
              "</style>\n",
              "<table border=\"1\" class=\"dataframe\">\n",
              "  <thead>\n",
              "    <tr style=\"text-align: right;\">\n",
              "      <th></th>\n",
              "      <th>headline_text</th>\n",
              "      <th>char_count</th>\n",
              "    </tr>\n",
              "  </thead>\n",
              "  <tbody>\n",
              "    <tr>\n",
              "      <th>0</th>\n",
              "      <td>Status quo will not be disturbed at Ayodhya; s...</td>\n",
              "      <td>3323</td>\n",
              "    </tr>\n",
              "    <tr>\n",
              "      <th>86</th>\n",
              "      <td>Powerless north India gropes in the dark Think...</td>\n",
              "      <td>1441</td>\n",
              "    </tr>\n",
              "    <tr>\n",
              "      <th>127</th>\n",
              "      <td>The string that pulled Stephen Hawking to Indi...</td>\n",
              "      <td>5855</td>\n",
              "    </tr>\n",
              "    <tr>\n",
              "      <th>280</th>\n",
              "      <td>Light combat craft takes India into club class...</td>\n",
              "      <td>5011</td>\n",
              "    </tr>\n",
              "    <tr>\n",
              "      <th>406</th>\n",
              "      <td>Light combat craft takes India into club class...</td>\n",
              "      <td>485</td>\n",
              "    </tr>\n",
              "  </tbody>\n",
              "</table>\n",
              "</div>"
            ],
            "text/plain": [
              "                                         headline_text  char_count\n",
              "0    Status quo will not be disturbed at Ayodhya; s...        3323\n",
              "86   Powerless north India gropes in the dark Think...        1441\n",
              "127  The string that pulled Stephen Hawking to Indi...        5855\n",
              "280  Light combat craft takes India into club class...        5011\n",
              "406  Light combat craft takes India into club class...         485"
            ]
          },
          "metadata": {},
          "execution_count": 116
        }
      ]
    },
    {
      "cell_type": "markdown",
      "metadata": {
        "id": "efx9lOLGOSiI"
      },
      "source": [
        "**Calculating average word length**"
      ]
    },
    {
      "cell_type": "code",
      "metadata": {
        "colab": {
          "base_uri": "https://localhost:8080/",
          "height": 204
        },
        "id": "pd_AuCapNCtE",
        "outputId": "67754194-51cc-441d-f987-9f2af727ede1"
      },
      "source": [
        "def avg_word(sentence):\n",
        "  words = sentence.split()\n",
        "  return (sum(len(word) for word in words)/len(words))\n",
        "\n",
        "df2['avg_word'] = data2['headline_text'].apply(lambda x: avg_word(x))\n",
        "df2[['headline_text','avg_word']].head()"
      ],
      "execution_count": 117,
      "outputs": [
        {
          "output_type": "execute_result",
          "data": {
            "text/html": [
              "<div>\n",
              "<style scoped>\n",
              "    .dataframe tbody tr th:only-of-type {\n",
              "        vertical-align: middle;\n",
              "    }\n",
              "\n",
              "    .dataframe tbody tr th {\n",
              "        vertical-align: top;\n",
              "    }\n",
              "\n",
              "    .dataframe thead th {\n",
              "        text-align: right;\n",
              "    }\n",
              "</style>\n",
              "<table border=\"1\" class=\"dataframe\">\n",
              "  <thead>\n",
              "    <tr style=\"text-align: right;\">\n",
              "      <th></th>\n",
              "      <th>headline_text</th>\n",
              "      <th>avg_word</th>\n",
              "    </tr>\n",
              "  </thead>\n",
              "  <tbody>\n",
              "    <tr>\n",
              "      <th>0</th>\n",
              "      <td>Status quo will not be disturbed at Ayodhya; s...</td>\n",
              "      <td>5.043636</td>\n",
              "    </tr>\n",
              "    <tr>\n",
              "      <th>86</th>\n",
              "      <td>Powerless north India gropes in the dark Think...</td>\n",
              "      <td>4.885714</td>\n",
              "    </tr>\n",
              "    <tr>\n",
              "      <th>127</th>\n",
              "      <td>The string that pulled Stephen Hawking to Indi...</td>\n",
              "      <td>5.249733</td>\n",
              "    </tr>\n",
              "    <tr>\n",
              "      <th>280</th>\n",
              "      <td>Light combat craft takes India into club class...</td>\n",
              "      <td>5.089915</td>\n",
              "    </tr>\n",
              "    <tr>\n",
              "      <th>406</th>\n",
              "      <td>Light combat craft takes India into club class...</td>\n",
              "      <td>5.942857</td>\n",
              "    </tr>\n",
              "  </tbody>\n",
              "</table>\n",
              "</div>"
            ],
            "text/plain": [
              "                                         headline_text  avg_word\n",
              "0    Status quo will not be disturbed at Ayodhya; s...  5.043636\n",
              "86   Powerless north India gropes in the dark Think...  4.885714\n",
              "127  The string that pulled Stephen Hawking to Indi...  5.249733\n",
              "280  Light combat craft takes India into club class...  5.089915\n",
              "406  Light combat craft takes India into club class...  5.942857"
            ]
          },
          "metadata": {},
          "execution_count": 117
        }
      ]
    },
    {
      "cell_type": "markdown",
      "metadata": {
        "id": "PC6h9I-ZOlaB"
      },
      "source": [
        "**Calculating the numbers of Stopwords**"
      ]
    },
    {
      "cell_type": "code",
      "metadata": {
        "colab": {
          "base_uri": "https://localhost:8080/",
          "height": 204
        },
        "id": "VGiZV4GaNCwn",
        "outputId": "8b6838e4-60c1-45f3-ab7e-6433ae248b06"
      },
      "source": [
        "stop = stopwords.words('english')\n",
        "df2['stopwords'] = df2['headline_text'].apply(lambda x: len([x for x in x.split() if x in stop]))\n",
        "df2[['headline_text','stopwords']].head()"
      ],
      "execution_count": 118,
      "outputs": [
        {
          "output_type": "execute_result",
          "data": {
            "text/html": [
              "<div>\n",
              "<style scoped>\n",
              "    .dataframe tbody tr th:only-of-type {\n",
              "        vertical-align: middle;\n",
              "    }\n",
              "\n",
              "    .dataframe tbody tr th {\n",
              "        vertical-align: top;\n",
              "    }\n",
              "\n",
              "    .dataframe thead th {\n",
              "        text-align: right;\n",
              "    }\n",
              "</style>\n",
              "<table border=\"1\" class=\"dataframe\">\n",
              "  <thead>\n",
              "    <tr style=\"text-align: right;\">\n",
              "      <th></th>\n",
              "      <th>headline_text</th>\n",
              "      <th>stopwords</th>\n",
              "    </tr>\n",
              "  </thead>\n",
              "  <tbody>\n",
              "    <tr>\n",
              "      <th>0</th>\n",
              "      <td>Status quo will not be disturbed at Ayodhya; s...</td>\n",
              "      <td>142</td>\n",
              "    </tr>\n",
              "    <tr>\n",
              "      <th>86</th>\n",
              "      <td>Powerless north India gropes in the dark Think...</td>\n",
              "      <td>56</td>\n",
              "    </tr>\n",
              "    <tr>\n",
              "      <th>127</th>\n",
              "      <td>The string that pulled Stephen Hawking to Indi...</td>\n",
              "      <td>191</td>\n",
              "    </tr>\n",
              "    <tr>\n",
              "      <th>280</th>\n",
              "      <td>Light combat craft takes India into club class...</td>\n",
              "      <td>164</td>\n",
              "    </tr>\n",
              "    <tr>\n",
              "      <th>406</th>\n",
              "      <td>Light combat craft takes India into club class...</td>\n",
              "      <td>7</td>\n",
              "    </tr>\n",
              "  </tbody>\n",
              "</table>\n",
              "</div>"
            ],
            "text/plain": [
              "                                         headline_text  stopwords\n",
              "0    Status quo will not be disturbed at Ayodhya; s...        142\n",
              "86   Powerless north India gropes in the dark Think...         56\n",
              "127  The string that pulled Stephen Hawking to Indi...        191\n",
              "280  Light combat craft takes India into club class...        164\n",
              "406  Light combat craft takes India into club class...          7"
            ]
          },
          "metadata": {},
          "execution_count": 118
        }
      ]
    },
    {
      "cell_type": "markdown",
      "metadata": {
        "id": "MJOuLp71TOk9"
      },
      "source": [
        "**Number of Special Characters in each Statements**"
      ]
    },
    {
      "cell_type": "code",
      "metadata": {
        "colab": {
          "base_uri": "https://localhost:8080/",
          "height": 204
        },
        "id": "sn0c_INkNCzh",
        "outputId": "5d6ccdb0-7799-4d62-8453-87257b5f6722"
      },
      "source": [
        "df2['hastags'] = df2['headline_text'].apply(lambda x: len([x for x in x.split() if x.startswith('#')]))\n",
        "df2[['headline_text','hastags']].head()"
      ],
      "execution_count": 119,
      "outputs": [
        {
          "output_type": "execute_result",
          "data": {
            "text/html": [
              "<div>\n",
              "<style scoped>\n",
              "    .dataframe tbody tr th:only-of-type {\n",
              "        vertical-align: middle;\n",
              "    }\n",
              "\n",
              "    .dataframe tbody tr th {\n",
              "        vertical-align: top;\n",
              "    }\n",
              "\n",
              "    .dataframe thead th {\n",
              "        text-align: right;\n",
              "    }\n",
              "</style>\n",
              "<table border=\"1\" class=\"dataframe\">\n",
              "  <thead>\n",
              "    <tr style=\"text-align: right;\">\n",
              "      <th></th>\n",
              "      <th>headline_text</th>\n",
              "      <th>hastags</th>\n",
              "    </tr>\n",
              "  </thead>\n",
              "  <tbody>\n",
              "    <tr>\n",
              "      <th>0</th>\n",
              "      <td>Status quo will not be disturbed at Ayodhya; s...</td>\n",
              "      <td>0</td>\n",
              "    </tr>\n",
              "    <tr>\n",
              "      <th>86</th>\n",
              "      <td>Powerless north India gropes in the dark Think...</td>\n",
              "      <td>0</td>\n",
              "    </tr>\n",
              "    <tr>\n",
              "      <th>127</th>\n",
              "      <td>The string that pulled Stephen Hawking to Indi...</td>\n",
              "      <td>0</td>\n",
              "    </tr>\n",
              "    <tr>\n",
              "      <th>280</th>\n",
              "      <td>Light combat craft takes India into club class...</td>\n",
              "      <td>0</td>\n",
              "    </tr>\n",
              "    <tr>\n",
              "      <th>406</th>\n",
              "      <td>Light combat craft takes India into club class...</td>\n",
              "      <td>0</td>\n",
              "    </tr>\n",
              "  </tbody>\n",
              "</table>\n",
              "</div>"
            ],
            "text/plain": [
              "                                         headline_text  hastags\n",
              "0    Status quo will not be disturbed at Ayodhya; s...        0\n",
              "86   Powerless north India gropes in the dark Think...        0\n",
              "127  The string that pulled Stephen Hawking to Indi...        0\n",
              "280  Light combat craft takes India into club class...        0\n",
              "406  Light combat craft takes India into club class...        0"
            ]
          },
          "metadata": {},
          "execution_count": 119
        }
      ]
    },
    {
      "cell_type": "markdown",
      "metadata": {
        "id": "U65Ub68ETjEl"
      },
      "source": [
        "**Number of Numerics in each Statements**"
      ]
    },
    {
      "cell_type": "code",
      "metadata": {
        "colab": {
          "base_uri": "https://localhost:8080/",
          "height": 359
        },
        "id": "BeyiGdnJTqAV",
        "outputId": "fbe2e668-ec15-4b91-ef19-e9ca82ec6a6d"
      },
      "source": [
        "df2['numerics'] = df2['headline_text'].apply(lambda x: len([x for x in x.split() if x.isdigit()]))\n",
        "df2[['headline_text','numerics']].head(10)"
      ],
      "execution_count": 120,
      "outputs": [
        {
          "output_type": "execute_result",
          "data": {
            "text/html": [
              "<div>\n",
              "<style scoped>\n",
              "    .dataframe tbody tr th:only-of-type {\n",
              "        vertical-align: middle;\n",
              "    }\n",
              "\n",
              "    .dataframe tbody tr th {\n",
              "        vertical-align: top;\n",
              "    }\n",
              "\n",
              "    .dataframe thead th {\n",
              "        text-align: right;\n",
              "    }\n",
              "</style>\n",
              "<table border=\"1\" class=\"dataframe\">\n",
              "  <thead>\n",
              "    <tr style=\"text-align: right;\">\n",
              "      <th></th>\n",
              "      <th>headline_text</th>\n",
              "      <th>numerics</th>\n",
              "    </tr>\n",
              "  </thead>\n",
              "  <tbody>\n",
              "    <tr>\n",
              "      <th>0</th>\n",
              "      <td>Status quo will not be disturbed at Ayodhya; s...</td>\n",
              "      <td>6</td>\n",
              "    </tr>\n",
              "    <tr>\n",
              "      <th>86</th>\n",
              "      <td>Powerless north India gropes in the dark Think...</td>\n",
              "      <td>6</td>\n",
              "    </tr>\n",
              "    <tr>\n",
              "      <th>127</th>\n",
              "      <td>The string that pulled Stephen Hawking to Indi...</td>\n",
              "      <td>4</td>\n",
              "    </tr>\n",
              "    <tr>\n",
              "      <th>280</th>\n",
              "      <td>Light combat craft takes India into club class...</td>\n",
              "      <td>13</td>\n",
              "    </tr>\n",
              "    <tr>\n",
              "      <th>406</th>\n",
              "      <td>Light combat craft takes India into club class...</td>\n",
              "      <td>1</td>\n",
              "    </tr>\n",
              "    <tr>\n",
              "      <th>418</th>\n",
              "      <td>Muslim body rules out talks on Ayodhya Bajrang...</td>\n",
              "      <td>4</td>\n",
              "    </tr>\n",
              "    <tr>\n",
              "      <th>485</th>\n",
              "      <td>Sangh Parivar; Babri panel up the ante Frontru...</td>\n",
              "      <td>4</td>\n",
              "    </tr>\n",
              "    <tr>\n",
              "      <th>551</th>\n",
              "      <td>Financier Bharat Shah held for alleged links w...</td>\n",
              "      <td>12</td>\n",
              "    </tr>\n",
              "    <tr>\n",
              "      <th>642</th>\n",
              "      <td>Fend for yourselves; Pande tells doctors Burea...</td>\n",
              "      <td>0</td>\n",
              "    </tr>\n",
              "    <tr>\n",
              "      <th>646</th>\n",
              "      <td>Sonia takes on the Hindutva brigade Congress h...</td>\n",
              "      <td>5</td>\n",
              "    </tr>\n",
              "  </tbody>\n",
              "</table>\n",
              "</div>"
            ],
            "text/plain": [
              "                                         headline_text  numerics\n",
              "0    Status quo will not be disturbed at Ayodhya; s...         6\n",
              "86   Powerless north India gropes in the dark Think...         6\n",
              "127  The string that pulled Stephen Hawking to Indi...         4\n",
              "280  Light combat craft takes India into club class...        13\n",
              "406  Light combat craft takes India into club class...         1\n",
              "418  Muslim body rules out talks on Ayodhya Bajrang...         4\n",
              "485  Sangh Parivar; Babri panel up the ante Frontru...         4\n",
              "551  Financier Bharat Shah held for alleged links w...        12\n",
              "642  Fend for yourselves; Pande tells doctors Burea...         0\n",
              "646  Sonia takes on the Hindutva brigade Congress h...         5"
            ]
          },
          "metadata": {},
          "execution_count": 120
        }
      ]
    },
    {
      "cell_type": "markdown",
      "metadata": {
        "id": "j4DYHirUT0n0"
      },
      "source": [
        "**Number of Uppercase Words in each Headline from each row**"
      ]
    },
    {
      "cell_type": "code",
      "metadata": {
        "colab": {
          "base_uri": "https://localhost:8080/",
          "height": 669
        },
        "id": "8fVhBmAwUPUJ",
        "outputId": "9a55c338-82ac-4751-bfcb-ab01c7d192e9"
      },
      "source": [
        "df2['upper'] = df2['headline_text'].apply(lambda x: len([x for x in x.split() if x.isupper()]))\n",
        "df2[['headline_text','upper']].head(20)"
      ],
      "execution_count": 121,
      "outputs": [
        {
          "output_type": "execute_result",
          "data": {
            "text/html": [
              "<div>\n",
              "<style scoped>\n",
              "    .dataframe tbody tr th:only-of-type {\n",
              "        vertical-align: middle;\n",
              "    }\n",
              "\n",
              "    .dataframe tbody tr th {\n",
              "        vertical-align: top;\n",
              "    }\n",
              "\n",
              "    .dataframe thead th {\n",
              "        text-align: right;\n",
              "    }\n",
              "</style>\n",
              "<table border=\"1\" class=\"dataframe\">\n",
              "  <thead>\n",
              "    <tr style=\"text-align: right;\">\n",
              "      <th></th>\n",
              "      <th>headline_text</th>\n",
              "      <th>upper</th>\n",
              "    </tr>\n",
              "  </thead>\n",
              "  <tbody>\n",
              "    <tr>\n",
              "      <th>0</th>\n",
              "      <td>Status quo will not be disturbed at Ayodhya; s...</td>\n",
              "      <td>17</td>\n",
              "    </tr>\n",
              "    <tr>\n",
              "      <th>86</th>\n",
              "      <td>Powerless north India gropes in the dark Think...</td>\n",
              "      <td>6</td>\n",
              "    </tr>\n",
              "    <tr>\n",
              "      <th>127</th>\n",
              "      <td>The string that pulled Stephen Hawking to Indi...</td>\n",
              "      <td>34</td>\n",
              "    </tr>\n",
              "    <tr>\n",
              "      <th>280</th>\n",
              "      <td>Light combat craft takes India into club class...</td>\n",
              "      <td>40</td>\n",
              "    </tr>\n",
              "    <tr>\n",
              "      <th>406</th>\n",
              "      <td>Light combat craft takes India into club class...</td>\n",
              "      <td>1</td>\n",
              "    </tr>\n",
              "    <tr>\n",
              "      <th>418</th>\n",
              "      <td>Muslim body rules out talks on Ayodhya Bajrang...</td>\n",
              "      <td>24</td>\n",
              "    </tr>\n",
              "    <tr>\n",
              "      <th>485</th>\n",
              "      <td>Sangh Parivar; Babri panel up the ante Frontru...</td>\n",
              "      <td>14</td>\n",
              "    </tr>\n",
              "    <tr>\n",
              "      <th>551</th>\n",
              "      <td>Financier Bharat Shah held for alleged links w...</td>\n",
              "      <td>22</td>\n",
              "    </tr>\n",
              "    <tr>\n",
              "      <th>642</th>\n",
              "      <td>Fend for yourselves; Pande tells doctors Burea...</td>\n",
              "      <td>0</td>\n",
              "    </tr>\n",
              "    <tr>\n",
              "      <th>646</th>\n",
              "      <td>Sonia takes on the Hindutva brigade Congress h...</td>\n",
              "      <td>11</td>\n",
              "    </tr>\n",
              "    <tr>\n",
              "      <th>709</th>\n",
              "      <td>Govt extends J&amp;K ceasefire by a month Peace hi...</td>\n",
              "      <td>14</td>\n",
              "    </tr>\n",
              "    <tr>\n",
              "      <th>755</th>\n",
              "      <td>Big bath passes without a hitch Security bando...</td>\n",
              "      <td>21</td>\n",
              "    </tr>\n",
              "    <tr>\n",
              "      <th>829</th>\n",
              "      <td>President against pitch for indirect polls TRA...</td>\n",
              "      <td>12</td>\n",
              "    </tr>\n",
              "    <tr>\n",
              "      <th>869</th>\n",
              "      <td>Monster quake kills 4;000 Forces to the rescue...</td>\n",
              "      <td>9</td>\n",
              "    </tr>\n",
              "    <tr>\n",
              "      <th>917</th>\n",
              "      <td>Death; distress; destruction...and it's not ov...</td>\n",
              "      <td>8</td>\n",
              "    </tr>\n",
              "    <tr>\n",
              "      <th>963</th>\n",
              "      <td>More tremors forecast for the next 48 hours Th...</td>\n",
              "      <td>7</td>\n",
              "    </tr>\n",
              "    <tr>\n",
              "      <th>1012</th>\n",
              "      <td>Hrithik: Miss Indias' delight! Manoj Bajpai: F...</td>\n",
              "      <td>9</td>\n",
              "    </tr>\n",
              "    <tr>\n",
              "      <th>1055</th>\n",
              "      <td>Relief operations take back seat in Bhuj Ferna...</td>\n",
              "      <td>5</td>\n",
              "    </tr>\n",
              "    <tr>\n",
              "      <th>1095</th>\n",
              "      <td>Army cordons off Anjar; says it's a mass grave...</td>\n",
              "      <td>5</td>\n",
              "    </tr>\n",
              "    <tr>\n",
              "      <th>1162</th>\n",
              "      <td>Gujarat govt yet to get its act together Pak r...</td>\n",
              "      <td>5</td>\n",
              "    </tr>\n",
              "  </tbody>\n",
              "</table>\n",
              "</div>"
            ],
            "text/plain": [
              "                                          headline_text  upper\n",
              "0     Status quo will not be disturbed at Ayodhya; s...     17\n",
              "86    Powerless north India gropes in the dark Think...      6\n",
              "127   The string that pulled Stephen Hawking to Indi...     34\n",
              "280   Light combat craft takes India into club class...     40\n",
              "406   Light combat craft takes India into club class...      1\n",
              "418   Muslim body rules out talks on Ayodhya Bajrang...     24\n",
              "485   Sangh Parivar; Babri panel up the ante Frontru...     14\n",
              "551   Financier Bharat Shah held for alleged links w...     22\n",
              "642   Fend for yourselves; Pande tells doctors Burea...      0\n",
              "646   Sonia takes on the Hindutva brigade Congress h...     11\n",
              "709   Govt extends J&K ceasefire by a month Peace hi...     14\n",
              "755   Big bath passes without a hitch Security bando...     21\n",
              "829   President against pitch for indirect polls TRA...     12\n",
              "869   Monster quake kills 4;000 Forces to the rescue...      9\n",
              "917   Death; distress; destruction...and it's not ov...      8\n",
              "963   More tremors forecast for the next 48 hours Th...      7\n",
              "1012  Hrithik: Miss Indias' delight! Manoj Bajpai: F...      9\n",
              "1055  Relief operations take back seat in Bhuj Ferna...      5\n",
              "1095  Army cordons off Anjar; says it's a mass grave...      5\n",
              "1162  Gujarat govt yet to get its act together Pak r...      5"
            ]
          },
          "metadata": {},
          "execution_count": 121
        }
      ]
    },
    {
      "cell_type": "markdown",
      "metadata": {
        "id": "Be6tzrf2VpP2"
      },
      "source": [
        "## **Pre-Process the Data**"
      ]
    },
    {
      "cell_type": "markdown",
      "metadata": {
        "id": "QjSBIU4UU_D3"
      },
      "source": [
        "**Converting every Words in the column to Lower Case**"
      ]
    },
    {
      "cell_type": "code",
      "metadata": {
        "colab": {
          "base_uri": "https://localhost:8080/"
        },
        "id": "HehNFFsyVLK7",
        "outputId": "a0096a4d-ce33-49d9-b71f-d404912083e3"
      },
      "source": [
        "df2['headline_text'] = df2['headline_text'].apply(lambda x: \" \".join(x.lower() for x in x.split()))\n",
        "df2['headline_text'].head()"
      ],
      "execution_count": 122,
      "outputs": [
        {
          "output_type": "execute_result",
          "data": {
            "text/plain": [
              "0      status quo will not be disturbed at ayodhya; s...\n",
              "86     powerless north india gropes in the dark think...\n",
              "127    the string that pulled stephen hawking to indi...\n",
              "280    light combat craft takes india into club class...\n",
              "406    light combat craft takes india into club class...\n",
              "Name: headline_text, dtype: object"
            ]
          },
          "metadata": {},
          "execution_count": 122
        }
      ]
    },
    {
      "cell_type": "markdown",
      "metadata": {
        "id": "XuBvDEimVXNO"
      },
      "source": [
        "**Removing Punctuations**"
      ]
    },
    {
      "cell_type": "code",
      "metadata": {
        "colab": {
          "base_uri": "https://localhost:8080/"
        },
        "id": "KhZHLY8wVLZO",
        "outputId": "e8adef0c-b045-4b31-a367-d80a1c60dc76"
      },
      "source": [
        "df2['headline_text'] = df2['headline_text'].str.replace('[^\\w\\s]','')\n",
        "df2['headline_text'].head()"
      ],
      "execution_count": 123,
      "outputs": [
        {
          "output_type": "execute_result",
          "data": {
            "text/plain": [
              "0      status quo will not be disturbed at ayodhya sa...\n",
              "86     powerless north india gropes in the dark think...\n",
              "127    the string that pulled stephen hawking to indi...\n",
              "280    light combat craft takes india into club class...\n",
              "406    light combat craft takes india into club class...\n",
              "Name: headline_text, dtype: object"
            ]
          },
          "metadata": {},
          "execution_count": 123
        }
      ]
    },
    {
      "cell_type": "markdown",
      "metadata": {
        "id": "Ie52ou0nV41s"
      },
      "source": [
        "**Removing the Stopwords**"
      ]
    },
    {
      "cell_type": "code",
      "metadata": {
        "colab": {
          "base_uri": "https://localhost:8080/"
        },
        "id": "Rqk-JtFgVLgN",
        "outputId": "d3528052-5e91-46fb-bd87-f57efa5fd3f2"
      },
      "source": [
        "stop = stopwords.words('english')\n",
        "df2['headline_text'] = df2['headline_text'].apply(lambda x: \" \".join(x for x in x.split() if x not in stop))\n",
        "df2['headline_text'].head()"
      ],
      "execution_count": 124,
      "outputs": [
        {
          "output_type": "execute_result",
          "data": {
            "text/plain": [
              "0      status quo disturbed ayodhya says vajpayee fis...\n",
              "86     powerless north india gropes dark think laxman...\n",
              "127    string pulled stephen hawking india vajpayee g...\n",
              "280    light combat craft takes india club class hawk...\n",
              "406    light combat craft takes india club class hawk...\n",
              "Name: headline_text, dtype: object"
            ]
          },
          "metadata": {},
          "execution_count": 124
        }
      ]
    },
    {
      "cell_type": "markdown",
      "metadata": {
        "id": "Q76lE7HzWXuH"
      },
      "source": [
        "**Removing Common Words**"
      ]
    },
    {
      "cell_type": "code",
      "metadata": {
        "colab": {
          "base_uri": "https://localhost:8080/"
        },
        "id": "M9t2K_aoWbvr",
        "outputId": "faadd119-d089-464d-971d-e2c630589f0f"
      },
      "source": [
        "freq = pd.Series(' '.join(df2['headline_text']).split()).value_counts()[:10]\n",
        "freq"
      ],
      "execution_count": 125,
      "outputs": [
        {
          "output_type": "execute_result",
          "data": {
            "text/plain": [
              "india     28439\n",
              "govt      23715\n",
              "new       20015\n",
              "rs        16061\n",
              "city      15464\n",
              "may       14980\n",
              "case      14674\n",
              "police    14149\n",
              "us        13564\n",
              "held      13463\n",
              "dtype: int64"
            ]
          },
          "metadata": {},
          "execution_count": 125
        }
      ]
    },
    {
      "cell_type": "code",
      "metadata": {
        "colab": {
          "base_uri": "https://localhost:8080/"
        },
        "id": "HjVPWwlvWlc8",
        "outputId": "f5803a23-a5a1-45a0-8b37-a38e999a0ead"
      },
      "source": [
        "freq = list(freq.index)\n",
        "df2['headline_text'] = df2['headline_text'].apply(\n",
        "    lambda x: \" \".join(x for x in x.split() if x not in freq))\n",
        "df2['headline_text'].head()"
      ],
      "execution_count": 126,
      "outputs": [
        {
          "output_type": "execute_result",
          "data": {
            "text/plain": [
              "0      status quo disturbed ayodhya says vajpayee fis...\n",
              "86     powerless north gropes dark think laxman tells...\n",
              "127    string pulled stephen hawking vajpayee gives b...\n",
              "280    light combat craft takes club class hawkings d...\n",
              "406    light combat craft takes club class hawkings d...\n",
              "Name: headline_text, dtype: object"
            ]
          },
          "metadata": {},
          "execution_count": 126
        }
      ]
    },
    {
      "cell_type": "markdown",
      "metadata": {
        "id": "cl4EeCCtWf0d"
      },
      "source": [
        "**Removing Rare Words to Get Rid of Noise**"
      ]
    },
    {
      "cell_type": "code",
      "metadata": {
        "colab": {
          "base_uri": "https://localhost:8080/"
        },
        "id": "iX2TTFfKWf9D",
        "outputId": "74b81c63-87d5-4aa0-f5ba-2986ea7878bb"
      },
      "source": [
        "freq = pd.Series(' '.join(df2['headline_text']).split()).value_counts()[-10:]\n",
        "freq"
      ],
      "execution_count": 127,
      "outputs": [
        {
          "output_type": "execute_result",
          "data": {
            "text/plain": [
              "srksalmans         1\n",
              "tirumuala          1\n",
              "mpd21              1\n",
              "policevillagers    1\n",
              "bushbandar         1\n",
              "shareautos         1\n",
              "gulpers            1\n",
              "1104               1\n",
              "foie               1\n",
              "centralisation     1\n",
              "dtype: int64"
            ]
          },
          "metadata": {},
          "execution_count": 127
        }
      ]
    },
    {
      "cell_type": "code",
      "metadata": {
        "colab": {
          "base_uri": "https://localhost:8080/"
        },
        "id": "l-0bBnccXIOY",
        "outputId": "87a882a4-0ba2-423e-8a5b-ba977996aace"
      },
      "source": [
        "freq = list(freq.index)\n",
        "df2['headline_text'] = df2['headline_text'].apply(\n",
        "    lambda x: \" \".join(x for x in x.split() if x not in freq))\n",
        "df2['headline_text'].head()"
      ],
      "execution_count": 128,
      "outputs": [
        {
          "output_type": "execute_result",
          "data": {
            "text/plain": [
              "0      status quo disturbed ayodhya says vajpayee fis...\n",
              "86     powerless north gropes dark think laxman tells...\n",
              "127    string pulled stephen hawking vajpayee gives b...\n",
              "280    light combat craft takes club class hawkings d...\n",
              "406    light combat craft takes club class hawkings d...\n",
              "Name: headline_text, dtype: object"
            ]
          },
          "metadata": {},
          "execution_count": 128
        }
      ]
    },
    {
      "cell_type": "code",
      "metadata": {
        "colab": {
          "base_uri": "https://localhost:8080/"
        },
        "id": "0x4jrc3JWgKh",
        "outputId": "30b77281-98b9-4c7e-ea89-c65ee2fdffad"
      },
      "source": [
        "df2.shape"
      ],
      "execution_count": 129,
      "outputs": [
        {
          "output_type": "execute_result",
          "data": {
            "text/plain": [
              "(3630, 9)"
            ]
          },
          "metadata": {},
          "execution_count": 129
        }
      ]
    },
    {
      "cell_type": "markdown",
      "metadata": {
        "id": "g0UJEqxLWgQS"
      },
      "source": [
        "**Tokenization**"
      ]
    },
    {
      "cell_type": "code",
      "metadata": {
        "colab": {
          "base_uri": "https://localhost:8080/"
        },
        "id": "lPX_z2cfWgXB",
        "outputId": "98eeb271-e6ee-4899-abdb-c12ddaee6ff8"
      },
      "source": [
        "TextBlob(str(df2['headline_text'])).words"
      ],
      "execution_count": 38,
      "outputs": [
        {
          "output_type": "execute_result",
          "data": {
            "text/plain": [
              "WordList(['0', 'status', 'quo', 'disturbed', 'ayodhya', 'says', 'vajpayee', 'fis', '86', 'powerless', 'north', 'gropes', 'dark', 'think', 'laxman', 'tells', '127', 'string', 'pulled', 'stephen', 'hawking', 'vajpayee', 'gives', 'b', '280', 'light', 'combat', 'craft', 'takes', 'club', 'class', 'hawkings', 'd', '406', 'light', 'combat', 'craft', 'takes', 'club', 'class', 'hawkings', 'd', '1044084', 'older', 'brother', 'dark', 'siblings', 'death', 'thought', 'supe', '1044772', 'top', 'sex', 'mistakes', 'men', 'make', 'alcohol', '6pack', 'salman', '1045470', 'ex', 'doesnt', 'want', 'pratik', 'saali', 'gaali', 'sudhir', 'tells', '1046166', 'neetu', 'chandra', 'denies', 'going', 'pantyless', 'aishwarya', '1046864', 'giving', 'kids', 'dressing', 'ak', 'hangals', 'ill', 'broke', 'dhob', 'Name', 'headline_text', 'Length', '3630', 'dtype', 'object'])"
            ]
          },
          "metadata": {},
          "execution_count": 38
        }
      ]
    },
    {
      "cell_type": "markdown",
      "metadata": {
        "id": "0jhljyJ_Wgdg"
      },
      "source": [
        "**Stemming**"
      ]
    },
    {
      "cell_type": "code",
      "metadata": {
        "colab": {
          "base_uri": "https://localhost:8080/"
        },
        "id": "7U7N8XMEWgj2",
        "outputId": "405a93ff-af76-415a-9c66-78c1d886820e"
      },
      "source": [
        "st = PorterStemmer()\n",
        "df2['headline_text'].apply(lambda x: \" \".join([st.stem(word) for word in x.split()])).head()"
      ],
      "execution_count": 130,
      "outputs": [
        {
          "output_type": "execute_result",
          "data": {
            "text/plain": [
              "0      statu quo disturb ayodhya say vajpaye fissur h...\n",
              "86     powerless north grope dark think laxman tell s...\n",
              "127    string pull stephen hawk vajpaye give big push...\n",
              "280    light combat craft take club class hawk day li...\n",
              "406    light combat craft take club class hawk day ex...\n",
              "Name: headline_text, dtype: object"
            ]
          },
          "metadata": {},
          "execution_count": 130
        }
      ]
    },
    {
      "cell_type": "markdown",
      "metadata": {
        "id": "eNeORLlmWgrO"
      },
      "source": [
        "**Perform SENTIMENTAL ANALYSIS For Each rows in a Headline_text Column**"
      ]
    },
    {
      "cell_type": "code",
      "metadata": {
        "colab": {
          "base_uri": "https://localhost:8080/",
          "height": 204
        },
        "id": "b5-d5YLFWgw-",
        "outputId": "07b93f25-e1d7-4ebe-9778-175752f6f216"
      },
      "source": [
        "df2['sentiment'] = df2['headline_text'].apply(lambda x: TextBlob(x).sentiment[0] )\n",
        "df2[['headline_text','sentiment']].head()"
      ],
      "execution_count": 131,
      "outputs": [
        {
          "output_type": "execute_result",
          "data": {
            "text/html": [
              "<div>\n",
              "<style scoped>\n",
              "    .dataframe tbody tr th:only-of-type {\n",
              "        vertical-align: middle;\n",
              "    }\n",
              "\n",
              "    .dataframe tbody tr th {\n",
              "        vertical-align: top;\n",
              "    }\n",
              "\n",
              "    .dataframe thead th {\n",
              "        text-align: right;\n",
              "    }\n",
              "</style>\n",
              "<table border=\"1\" class=\"dataframe\">\n",
              "  <thead>\n",
              "    <tr style=\"text-align: right;\">\n",
              "      <th></th>\n",
              "      <th>headline_text</th>\n",
              "      <th>sentiment</th>\n",
              "    </tr>\n",
              "  </thead>\n",
              "  <tbody>\n",
              "    <tr>\n",
              "      <th>0</th>\n",
              "      <td>status quo disturbed ayodhya says vajpayee fis...</td>\n",
              "      <td>0.121014</td>\n",
              "    </tr>\n",
              "    <tr>\n",
              "      <th>86</th>\n",
              "      <td>powerless north gropes dark think laxman tells...</td>\n",
              "      <td>0.112500</td>\n",
              "    </tr>\n",
              "    <tr>\n",
              "      <th>127</th>\n",
              "      <td>string pulled stephen hawking vajpayee gives b...</td>\n",
              "      <td>0.049416</td>\n",
              "    </tr>\n",
              "    <tr>\n",
              "      <th>280</th>\n",
              "      <td>light combat craft takes club class hawkings d...</td>\n",
              "      <td>0.271341</td>\n",
              "    </tr>\n",
              "    <tr>\n",
              "      <th>406</th>\n",
              "      <td>light combat craft takes club class hawkings d...</td>\n",
              "      <td>0.262500</td>\n",
              "    </tr>\n",
              "  </tbody>\n",
              "</table>\n",
              "</div>"
            ],
            "text/plain": [
              "                                         headline_text  sentiment\n",
              "0    status quo disturbed ayodhya says vajpayee fis...   0.121014\n",
              "86   powerless north gropes dark think laxman tells...   0.112500\n",
              "127  string pulled stephen hawking vajpayee gives b...   0.049416\n",
              "280  light combat craft takes club class hawkings d...   0.271341\n",
              "406  light combat craft takes club class hawkings d...   0.262500"
            ]
          },
          "metadata": {},
          "execution_count": 131
        }
      ]
    },
    {
      "cell_type": "markdown",
      "metadata": {
        "id": "hccEgt9k1VwI"
      },
      "source": [
        "**Resetting Index**"
      ]
    },
    {
      "cell_type": "code",
      "metadata": {
        "id": "9mrYXvmr1VDM"
      },
      "source": [
        "Data1=df2[['Date','headline_text','sentiment']].reset_index()\n",
        "Data1=Data1.drop('index',axis=1)"
      ],
      "execution_count": 132,
      "outputs": []
    },
    {
      "cell_type": "code",
      "metadata": {
        "colab": {
          "base_uri": "https://localhost:8080/",
          "height": 419
        },
        "id": "PAcwV98y1VGq",
        "outputId": "657b141d-819a-4222-eb40-6f5f6b5cae26"
      },
      "source": [
        "Data1"
      ],
      "execution_count": 133,
      "outputs": [
        {
          "output_type": "execute_result",
          "data": {
            "text/html": [
              "<div>\n",
              "<style scoped>\n",
              "    .dataframe tbody tr th:only-of-type {\n",
              "        vertical-align: middle;\n",
              "    }\n",
              "\n",
              "    .dataframe tbody tr th {\n",
              "        vertical-align: top;\n",
              "    }\n",
              "\n",
              "    .dataframe thead th {\n",
              "        text-align: right;\n",
              "    }\n",
              "</style>\n",
              "<table border=\"1\" class=\"dataframe\">\n",
              "  <thead>\n",
              "    <tr style=\"text-align: right;\">\n",
              "      <th></th>\n",
              "      <th>Date</th>\n",
              "      <th>headline_text</th>\n",
              "      <th>sentiment</th>\n",
              "    </tr>\n",
              "  </thead>\n",
              "  <tbody>\n",
              "    <tr>\n",
              "      <th>0</th>\n",
              "      <td>2001-01-02</td>\n",
              "      <td>status quo disturbed ayodhya says vajpayee fis...</td>\n",
              "      <td>0.121014</td>\n",
              "    </tr>\n",
              "    <tr>\n",
              "      <th>1</th>\n",
              "      <td>2001-01-03</td>\n",
              "      <td>powerless north gropes dark think laxman tells...</td>\n",
              "      <td>0.112500</td>\n",
              "    </tr>\n",
              "    <tr>\n",
              "      <th>2</th>\n",
              "      <td>2001-01-04</td>\n",
              "      <td>string pulled stephen hawking vajpayee gives b...</td>\n",
              "      <td>0.049416</td>\n",
              "    </tr>\n",
              "    <tr>\n",
              "      <th>3</th>\n",
              "      <td>2001-01-05</td>\n",
              "      <td>light combat craft takes club class hawkings d...</td>\n",
              "      <td>0.271341</td>\n",
              "    </tr>\n",
              "    <tr>\n",
              "      <th>4</th>\n",
              "      <td>2001-01-06</td>\n",
              "      <td>light combat craft takes club class hawkings d...</td>\n",
              "      <td>0.262500</td>\n",
              "    </tr>\n",
              "    <tr>\n",
              "      <th>...</th>\n",
              "      <td>...</td>\n",
              "      <td>...</td>\n",
              "      <td>...</td>\n",
              "    </tr>\n",
              "    <tr>\n",
              "      <th>3625</th>\n",
              "      <td>2011-01-17</td>\n",
              "      <td>older brother dark siblings death thought supe...</td>\n",
              "      <td>0.040018</td>\n",
              "    </tr>\n",
              "    <tr>\n",
              "      <th>3626</th>\n",
              "      <td>2011-01-18</td>\n",
              "      <td>top sex mistakes men make alcohol 6pack salman...</td>\n",
              "      <td>0.028897</td>\n",
              "    </tr>\n",
              "    <tr>\n",
              "      <th>3627</th>\n",
              "      <td>2011-01-19</td>\n",
              "      <td>ex doesnt want pratik saali gaali sudhir tells...</td>\n",
              "      <td>0.055350</td>\n",
              "    </tr>\n",
              "    <tr>\n",
              "      <th>3628</th>\n",
              "      <td>2011-01-20</td>\n",
              "      <td>neetu chandra denies going pantyless aishwarya...</td>\n",
              "      <td>0.035866</td>\n",
              "    </tr>\n",
              "    <tr>\n",
              "      <th>3629</th>\n",
              "      <td>2011-01-21</td>\n",
              "      <td>giving kids dressing ak hangals ill broke dhob...</td>\n",
              "      <td>0.009817</td>\n",
              "    </tr>\n",
              "  </tbody>\n",
              "</table>\n",
              "<p>3630 rows × 3 columns</p>\n",
              "</div>"
            ],
            "text/plain": [
              "           Date                                      headline_text  sentiment\n",
              "0    2001-01-02  status quo disturbed ayodhya says vajpayee fis...   0.121014\n",
              "1    2001-01-03  powerless north gropes dark think laxman tells...   0.112500\n",
              "2    2001-01-04  string pulled stephen hawking vajpayee gives b...   0.049416\n",
              "3    2001-01-05  light combat craft takes club class hawkings d...   0.271341\n",
              "4    2001-01-06  light combat craft takes club class hawkings d...   0.262500\n",
              "...         ...                                                ...        ...\n",
              "3625 2011-01-17  older brother dark siblings death thought supe...   0.040018\n",
              "3626 2011-01-18  top sex mistakes men make alcohol 6pack salman...   0.028897\n",
              "3627 2011-01-19  ex doesnt want pratik saali gaali sudhir tells...   0.055350\n",
              "3628 2011-01-20  neetu chandra denies going pantyless aishwarya...   0.035866\n",
              "3629 2011-01-21  giving kids dressing ak hangals ill broke dhob...   0.009817\n",
              "\n",
              "[3630 rows x 3 columns]"
            ]
          },
          "metadata": {},
          "execution_count": 133
        }
      ]
    },
    {
      "cell_type": "markdown",
      "metadata": {
        "id": "SJ_-bcp8cCvx"
      },
      "source": [
        "## **Analyze Our SENSEX Data**"
      ]
    },
    {
      "cell_type": "code",
      "metadata": {
        "colab": {
          "base_uri": "https://localhost:8080/",
          "height": 419
        },
        "id": "DLwUqeFDcIuf",
        "outputId": "36f1a488-3c5d-4676-f918-63e83783b5c3"
      },
      "source": [
        "Data2=data1[(data1['Date']>='2001-01-02')&(data1['Date']<='2011-01-21')]\n",
        "Data2"
      ],
      "execution_count": 134,
      "outputs": [
        {
          "output_type": "execute_result",
          "data": {
            "text/html": [
              "<div>\n",
              "<style scoped>\n",
              "    .dataframe tbody tr th:only-of-type {\n",
              "        vertical-align: middle;\n",
              "    }\n",
              "\n",
              "    .dataframe tbody tr th {\n",
              "        vertical-align: top;\n",
              "    }\n",
              "\n",
              "    .dataframe thead th {\n",
              "        text-align: right;\n",
              "    }\n",
              "</style>\n",
              "<table border=\"1\" class=\"dataframe\">\n",
              "  <thead>\n",
              "    <tr style=\"text-align: right;\">\n",
              "      <th></th>\n",
              "      <th>Date</th>\n",
              "      <th>Open</th>\n",
              "      <th>High</th>\n",
              "      <th>Low</th>\n",
              "      <th>Close</th>\n",
              "      <th>Adj Close</th>\n",
              "      <th>Volume</th>\n",
              "    </tr>\n",
              "  </thead>\n",
              "  <tbody>\n",
              "    <tr>\n",
              "      <th>0</th>\n",
              "      <td>2001-01-02</td>\n",
              "      <td>483.549988</td>\n",
              "      <td>483.549988</td>\n",
              "      <td>461.380005</td>\n",
              "      <td>462.489990</td>\n",
              "      <td>462.489990</td>\n",
              "      <td>1129400000</td>\n",
              "    </tr>\n",
              "    <tr>\n",
              "      <th>1</th>\n",
              "      <td>2001-01-03</td>\n",
              "      <td>462.489990</td>\n",
              "      <td>484.390015</td>\n",
              "      <td>459.279999</td>\n",
              "      <td>484.390015</td>\n",
              "      <td>484.390015</td>\n",
              "      <td>188070000</td>\n",
              "    </tr>\n",
              "    <tr>\n",
              "      <th>2</th>\n",
              "      <td>2001-01-04</td>\n",
              "      <td>484.390015</td>\n",
              "      <td>484.390015</td>\n",
              "      <td>475.899994</td>\n",
              "      <td>477.200012</td>\n",
              "      <td>477.200012</td>\n",
              "      <td>216940000</td>\n",
              "    </tr>\n",
              "    <tr>\n",
              "      <th>3</th>\n",
              "      <td>2001-01-05</td>\n",
              "      <td>477.200012</td>\n",
              "      <td>477.309998</td>\n",
              "      <td>461.760010</td>\n",
              "      <td>463.140015</td>\n",
              "      <td>463.140015</td>\n",
              "      <td>1430800000</td>\n",
              "    </tr>\n",
              "    <tr>\n",
              "      <th>4</th>\n",
              "      <td>2001-01-08</td>\n",
              "      <td>463.140015</td>\n",
              "      <td>463.140015</td>\n",
              "      <td>457.559998</td>\n",
              "      <td>461.640015</td>\n",
              "      <td>461.640015</td>\n",
              "      <td>1115500000</td>\n",
              "    </tr>\n",
              "    <tr>\n",
              "      <th>...</th>\n",
              "      <td>...</td>\n",
              "      <td>...</td>\n",
              "      <td>...</td>\n",
              "      <td>...</td>\n",
              "      <td>...</td>\n",
              "      <td>...</td>\n",
              "      <td>...</td>\n",
              "    </tr>\n",
              "    <tr>\n",
              "      <th>2524</th>\n",
              "      <td>2011-01-14</td>\n",
              "      <td>800.650024</td>\n",
              "      <td>807.890015</td>\n",
              "      <td>799.049988</td>\n",
              "      <td>807.570007</td>\n",
              "      <td>807.570007</td>\n",
              "      <td>4661590000</td>\n",
              "    </tr>\n",
              "    <tr>\n",
              "      <th>2525</th>\n",
              "      <td>2011-01-18</td>\n",
              "      <td>807.570007</td>\n",
              "      <td>807.659973</td>\n",
              "      <td>801.039978</td>\n",
              "      <td>807.559998</td>\n",
              "      <td>807.559998</td>\n",
              "      <td>5284990000</td>\n",
              "    </tr>\n",
              "    <tr>\n",
              "      <th>2526</th>\n",
              "      <td>2011-01-19</td>\n",
              "      <td>806.679993</td>\n",
              "      <td>807.210022</td>\n",
              "      <td>785.849976</td>\n",
              "      <td>786.890015</td>\n",
              "      <td>786.890015</td>\n",
              "      <td>4743710000</td>\n",
              "    </tr>\n",
              "    <tr>\n",
              "      <th>2527</th>\n",
              "      <td>2011-01-20</td>\n",
              "      <td>781.960022</td>\n",
              "      <td>785.780029</td>\n",
              "      <td>775.580017</td>\n",
              "      <td>778.080017</td>\n",
              "      <td>778.080017</td>\n",
              "      <td>4935320000</td>\n",
              "    </tr>\n",
              "    <tr>\n",
              "      <th>2528</th>\n",
              "      <td>2011-01-21</td>\n",
              "      <td>781.960022</td>\n",
              "      <td>786.890015</td>\n",
              "      <td>773.119995</td>\n",
              "      <td>773.179993</td>\n",
              "      <td>773.179993</td>\n",
              "      <td>4935320000</td>\n",
              "    </tr>\n",
              "  </tbody>\n",
              "</table>\n",
              "<p>2529 rows × 7 columns</p>\n",
              "</div>"
            ],
            "text/plain": [
              "           Date        Open        High  ...       Close   Adj Close      Volume\n",
              "0    2001-01-02  483.549988  483.549988  ...  462.489990  462.489990  1129400000\n",
              "1    2001-01-03  462.489990  484.390015  ...  484.390015  484.390015   188070000\n",
              "2    2001-01-04  484.390015  484.390015  ...  477.200012  477.200012   216940000\n",
              "3    2001-01-05  477.200012  477.309998  ...  463.140015  463.140015  1430800000\n",
              "4    2001-01-08  463.140015  463.140015  ...  461.640015  461.640015  1115500000\n",
              "...         ...         ...         ...  ...         ...         ...         ...\n",
              "2524 2011-01-14  800.650024  807.890015  ...  807.570007  807.570007  4661590000\n",
              "2525 2011-01-18  807.570007  807.659973  ...  807.559998  807.559998  5284990000\n",
              "2526 2011-01-19  806.679993  807.210022  ...  786.890015  786.890015  4743710000\n",
              "2527 2011-01-20  781.960022  785.780029  ...  778.080017  778.080017  4935320000\n",
              "2528 2011-01-21  781.960022  786.890015  ...  773.179993  773.179993  4935320000\n",
              "\n",
              "[2529 rows x 7 columns]"
            ]
          },
          "metadata": {},
          "execution_count": 134
        }
      ]
    },
    {
      "cell_type": "code",
      "metadata": {
        "colab": {
          "base_uri": "https://localhost:8080/"
        },
        "id": "cPN638Ttuv9Q",
        "outputId": "7243d9bd-c39d-4577-888a-c722f9d2b523"
      },
      "source": [
        "Data2.shape"
      ],
      "execution_count": 135,
      "outputs": [
        {
          "output_type": "execute_result",
          "data": {
            "text/plain": [
              "(2529, 7)"
            ]
          },
          "metadata": {},
          "execution_count": 135
        }
      ]
    },
    {
      "cell_type": "code",
      "metadata": {
        "colab": {
          "base_uri": "https://localhost:8080/",
          "height": 500
        },
        "id": "aTmLB6AguwCr",
        "outputId": "0b38c70d-19ce-486d-c54f-001cb05e2a1a"
      },
      "source": [
        "Data2[['High','Low','Open','Close']].plot(figsize=(15,8))"
      ],
      "execution_count": 136,
      "outputs": [
        {
          "output_type": "execute_result",
          "data": {
            "text/plain": [
              "<matplotlib.axes._subplots.AxesSubplot at 0x7f8fe2d1f050>"
            ]
          },
          "metadata": {},
          "execution_count": 136
        },
        {
          "output_type": "display_data",
          "data": {
            "image/png": "[encoded data removed]",
            "text/plain": [
              "<Figure size 1080x576 with 1 Axes>"
            ]
          },
          "metadata": {
            "needs_background": "light"
          }
        }
      ]
    },
    {
      "cell_type": "code",
      "metadata": {
        "colab": {
          "base_uri": "https://localhost:8080/",
          "height": 456
        },
        "id": "qoqIjSPju7tG",
        "outputId": "15d4a30b-dae2-4663-c27b-d7f892d70e7a"
      },
      "source": [
        "Data2['Volume'].plot(figsize=(15,7))"
      ],
      "execution_count": 137,
      "outputs": [
        {
          "output_type": "execute_result",
          "data": {
            "text/plain": [
              "<matplotlib.axes._subplots.AxesSubplot at 0x7f8fe34c5550>"
            ]
          },
          "metadata": {},
          "execution_count": 137
        },
        {
          "output_type": "display_data",
          "data": {
            "image/png": "[encoded data removed]",
            "text/plain": [
              "<Figure size 1080x504 with 1 Axes>"
            ]
          },
          "metadata": {
            "needs_background": "light"
          }
        }
      ]
    },
    {
      "cell_type": "markdown",
      "metadata": {
        "id": "4bb1_3YZ28WZ"
      },
      "source": [
        "**Merging Sensex and Headlines Dataset to create a HYBRID MODEL**"
      ]
    },
    {
      "cell_type": "code",
      "metadata": {
        "colab": {
          "base_uri": "https://localhost:8080/",
          "height": 419
        },
        "id": "cw8efegNu7wN",
        "outputId": "f037f348-d26f-4fbf-c69a-a9008bf1cbb4"
      },
      "source": [
        "DataTab=pd.merge(Data1,Data2,on='Date',how='right')\n",
        "DataTab"
      ],
      "execution_count": 138,
      "outputs": [
        {
          "output_type": "execute_result",
          "data": {
            "text/html": [
              "<div>\n",
              "<style scoped>\n",
              "    .dataframe tbody tr th:only-of-type {\n",
              "        vertical-align: middle;\n",
              "    }\n",
              "\n",
              "    .dataframe tbody tr th {\n",
              "        vertical-align: top;\n",
              "    }\n",
              "\n",
              "    .dataframe thead th {\n",
              "        text-align: right;\n",
              "    }\n",
              "</style>\n",
              "<table border=\"1\" class=\"dataframe\">\n",
              "  <thead>\n",
              "    <tr style=\"text-align: right;\">\n",
              "      <th></th>\n",
              "      <th>Date</th>\n",
              "      <th>headline_text</th>\n",
              "      <th>sentiment</th>\n",
              "      <th>Open</th>\n",
              "      <th>High</th>\n",
              "      <th>Low</th>\n",
              "      <th>Close</th>\n",
              "      <th>Adj Close</th>\n",
              "      <th>Volume</th>\n",
              "    </tr>\n",
              "  </thead>\n",
              "  <tbody>\n",
              "    <tr>\n",
              "      <th>0</th>\n",
              "      <td>2001-01-02</td>\n",
              "      <td>status quo disturbed ayodhya says vajpayee fis...</td>\n",
              "      <td>0.121014</td>\n",
              "      <td>483.549988</td>\n",
              "      <td>483.549988</td>\n",
              "      <td>461.380005</td>\n",
              "      <td>462.489990</td>\n",
              "      <td>462.489990</td>\n",
              "      <td>1129400000</td>\n",
              "    </tr>\n",
              "    <tr>\n",
              "      <th>1</th>\n",
              "      <td>2001-01-03</td>\n",
              "      <td>powerless north gropes dark think laxman tells...</td>\n",
              "      <td>0.112500</td>\n",
              "      <td>462.489990</td>\n",
              "      <td>484.390015</td>\n",
              "      <td>459.279999</td>\n",
              "      <td>484.390015</td>\n",
              "      <td>484.390015</td>\n",
              "      <td>188070000</td>\n",
              "    </tr>\n",
              "    <tr>\n",
              "      <th>2</th>\n",
              "      <td>2001-01-04</td>\n",
              "      <td>string pulled stephen hawking vajpayee gives b...</td>\n",
              "      <td>0.049416</td>\n",
              "      <td>484.390015</td>\n",
              "      <td>484.390015</td>\n",
              "      <td>475.899994</td>\n",
              "      <td>477.200012</td>\n",
              "      <td>477.200012</td>\n",
              "      <td>216940000</td>\n",
              "    </tr>\n",
              "    <tr>\n",
              "      <th>3</th>\n",
              "      <td>2001-01-05</td>\n",
              "      <td>light combat craft takes club class hawkings d...</td>\n",
              "      <td>0.271341</td>\n",
              "      <td>477.200012</td>\n",
              "      <td>477.309998</td>\n",
              "      <td>461.760010</td>\n",
              "      <td>463.140015</td>\n",
              "      <td>463.140015</td>\n",
              "      <td>1430800000</td>\n",
              "    </tr>\n",
              "    <tr>\n",
              "      <th>4</th>\n",
              "      <td>2001-01-08</td>\n",
              "      <td>sangh parivar babri panel ante frontrunner key...</td>\n",
              "      <td>-0.056988</td>\n",
              "      <td>463.140015</td>\n",
              "      <td>463.140015</td>\n",
              "      <td>457.559998</td>\n",
              "      <td>461.640015</td>\n",
              "      <td>461.640015</td>\n",
              "      <td>1115500000</td>\n",
              "    </tr>\n",
              "    <tr>\n",
              "      <th>...</th>\n",
              "      <td>...</td>\n",
              "      <td>...</td>\n",
              "      <td>...</td>\n",
              "      <td>...</td>\n",
              "      <td>...</td>\n",
              "      <td>...</td>\n",
              "      <td>...</td>\n",
              "      <td>...</td>\n",
              "      <td>...</td>\n",
              "    </tr>\n",
              "    <tr>\n",
              "      <th>2524</th>\n",
              "      <td>2011-01-14</td>\n",
              "      <td>cartoons yamla pagla deewana movie review srk ...</td>\n",
              "      <td>0.068394</td>\n",
              "      <td>800.650024</td>\n",
              "      <td>807.890015</td>\n",
              "      <td>799.049988</td>\n",
              "      <td>807.570007</td>\n",
              "      <td>807.570007</td>\n",
              "      <td>4661590000</td>\n",
              "    </tr>\n",
              "    <tr>\n",
              "      <th>2525</th>\n",
              "      <td>2011-01-18</td>\n",
              "      <td>top sex mistakes men make alcohol 6pack salman...</td>\n",
              "      <td>0.028897</td>\n",
              "      <td>807.570007</td>\n",
              "      <td>807.659973</td>\n",
              "      <td>801.039978</td>\n",
              "      <td>807.559998</td>\n",
              "      <td>807.559998</td>\n",
              "      <td>5284990000</td>\n",
              "    </tr>\n",
              "    <tr>\n",
              "      <th>2526</th>\n",
              "      <td>2011-01-19</td>\n",
              "      <td>ex doesnt want pratik saali gaali sudhir tells...</td>\n",
              "      <td>0.055350</td>\n",
              "      <td>806.679993</td>\n",
              "      <td>807.210022</td>\n",
              "      <td>785.849976</td>\n",
              "      <td>786.890015</td>\n",
              "      <td>786.890015</td>\n",
              "      <td>4743710000</td>\n",
              "    </tr>\n",
              "    <tr>\n",
              "      <th>2527</th>\n",
              "      <td>2011-01-20</td>\n",
              "      <td>neetu chandra denies going pantyless aishwarya...</td>\n",
              "      <td>0.035866</td>\n",
              "      <td>781.960022</td>\n",
              "      <td>785.780029</td>\n",
              "      <td>775.580017</td>\n",
              "      <td>778.080017</td>\n",
              "      <td>778.080017</td>\n",
              "      <td>4935320000</td>\n",
              "    </tr>\n",
              "    <tr>\n",
              "      <th>2528</th>\n",
              "      <td>2011-01-21</td>\n",
              "      <td>giving kids dressing ak hangals ill broke dhob...</td>\n",
              "      <td>0.009817</td>\n",
              "      <td>781.960022</td>\n",
              "      <td>786.890015</td>\n",
              "      <td>773.119995</td>\n",
              "      <td>773.179993</td>\n",
              "      <td>773.179993</td>\n",
              "      <td>4935320000</td>\n",
              "    </tr>\n",
              "  </tbody>\n",
              "</table>\n",
              "<p>2529 rows × 9 columns</p>\n",
              "</div>"
            ],
            "text/plain": [
              "           Date  ...      Volume\n",
              "0    2001-01-02  ...  1129400000\n",
              "1    2001-01-03  ...   188070000\n",
              "2    2001-01-04  ...   216940000\n",
              "3    2001-01-05  ...  1430800000\n",
              "4    2001-01-08  ...  1115500000\n",
              "...         ...  ...         ...\n",
              "2524 2011-01-14  ...  4661590000\n",
              "2525 2011-01-18  ...  5284990000\n",
              "2526 2011-01-19  ...  4743710000\n",
              "2527 2011-01-20  ...  4935320000\n",
              "2528 2011-01-21  ...  4935320000\n",
              "\n",
              "[2529 rows x 9 columns]"
            ]
          },
          "metadata": {},
          "execution_count": 138
        }
      ]
    },
    {
      "cell_type": "code",
      "metadata": {
        "colab": {
          "base_uri": "https://localhost:8080/"
        },
        "id": "2JHrUXwh3YcA",
        "outputId": "0a904c8b-403b-4e83-8ee7-3a4e838f50c1"
      },
      "source": [
        "DataTab=DataTab.drop_duplicates()    #Removing Duplicates\n",
        "DataTab.duplicated().sum()"
      ],
      "execution_count": 139,
      "outputs": [
        {
          "output_type": "execute_result",
          "data": {
            "text/plain": [
              "0"
            ]
          },
          "metadata": {},
          "execution_count": 139
        }
      ]
    },
    {
      "cell_type": "code",
      "metadata": {
        "colab": {
          "base_uri": "https://localhost:8080/",
          "height": 289
        },
        "id": "L1Pz1Amb3Yg-",
        "outputId": "281cf9e3-7245-4c29-9239-04af323acb43"
      },
      "source": [
        "analyzer = SentimentIntensityAnalyzer()\n",
        "DataTab['scores'] = DataTab['headline_text'].apply(lambda x: analyzer.polarity_scores(str(x)))\n",
        "DataTab.head()"
      ],
      "execution_count": 140,
      "outputs": [
        {
          "output_type": "execute_result",
          "data": {
            "text/html": [
              "<div>\n",
              "<style scoped>\n",
              "    .dataframe tbody tr th:only-of-type {\n",
              "        vertical-align: middle;\n",
              "    }\n",
              "\n",
              "    .dataframe tbody tr th {\n",
              "        vertical-align: top;\n",
              "    }\n",
              "\n",
              "    .dataframe thead th {\n",
              "        text-align: right;\n",
              "    }\n",
              "</style>\n",
              "<table border=\"1\" class=\"dataframe\">\n",
              "  <thead>\n",
              "    <tr style=\"text-align: right;\">\n",
              "      <th></th>\n",
              "      <th>Date</th>\n",
              "      <th>headline_text</th>\n",
              "      <th>sentiment</th>\n",
              "      <th>Open</th>\n",
              "      <th>High</th>\n",
              "      <th>Low</th>\n",
              "      <th>Close</th>\n",
              "      <th>Adj Close</th>\n",
              "      <th>Volume</th>\n",
              "      <th>scores</th>\n",
              "    </tr>\n",
              "  </thead>\n",
              "  <tbody>\n",
              "    <tr>\n",
              "      <th>0</th>\n",
              "      <td>2001-01-02</td>\n",
              "      <td>status quo disturbed ayodhya says vajpayee fis...</td>\n",
              "      <td>0.121014</td>\n",
              "      <td>483.549988</td>\n",
              "      <td>483.549988</td>\n",
              "      <td>461.380005</td>\n",
              "      <td>462.489990</td>\n",
              "      <td>462.489990</td>\n",
              "      <td>1129400000</td>\n",
              "      <td>{'neg': 0.17, 'neu': 0.726, 'pos': 0.105, 'com...</td>\n",
              "    </tr>\n",
              "    <tr>\n",
              "      <th>1</th>\n",
              "      <td>2001-01-03</td>\n",
              "      <td>powerless north gropes dark think laxman tells...</td>\n",
              "      <td>0.112500</td>\n",
              "      <td>462.489990</td>\n",
              "      <td>484.390015</td>\n",
              "      <td>459.279999</td>\n",
              "      <td>484.390015</td>\n",
              "      <td>484.390015</td>\n",
              "      <td>188070000</td>\n",
              "      <td>{'neg': 0.141, 'neu': 0.711, 'pos': 0.149, 'co...</td>\n",
              "    </tr>\n",
              "    <tr>\n",
              "      <th>2</th>\n",
              "      <td>2001-01-04</td>\n",
              "      <td>string pulled stephen hawking vajpayee gives b...</td>\n",
              "      <td>0.049416</td>\n",
              "      <td>484.390015</td>\n",
              "      <td>484.390015</td>\n",
              "      <td>475.899994</td>\n",
              "      <td>477.200012</td>\n",
              "      <td>477.200012</td>\n",
              "      <td>216940000</td>\n",
              "      <td>{'neg': 0.126, 'neu': 0.748, 'pos': 0.126, 'co...</td>\n",
              "    </tr>\n",
              "    <tr>\n",
              "      <th>3</th>\n",
              "      <td>2001-01-05</td>\n",
              "      <td>light combat craft takes club class hawkings d...</td>\n",
              "      <td>0.271341</td>\n",
              "      <td>477.200012</td>\n",
              "      <td>477.309998</td>\n",
              "      <td>461.760010</td>\n",
              "      <td>463.140015</td>\n",
              "      <td>463.140015</td>\n",
              "      <td>1430800000</td>\n",
              "      <td>{'neg': 0.147, 'neu': 0.66, 'pos': 0.193, 'com...</td>\n",
              "    </tr>\n",
              "    <tr>\n",
              "      <th>4</th>\n",
              "      <td>2001-01-08</td>\n",
              "      <td>sangh parivar babri panel ante frontrunner key...</td>\n",
              "      <td>-0.056988</td>\n",
              "      <td>463.140015</td>\n",
              "      <td>463.140015</td>\n",
              "      <td>457.559998</td>\n",
              "      <td>461.640015</td>\n",
              "      <td>461.640015</td>\n",
              "      <td>1115500000</td>\n",
              "      <td>{'neg': 0.155, 'neu': 0.753, 'pos': 0.092, 'co...</td>\n",
              "    </tr>\n",
              "  </tbody>\n",
              "</table>\n",
              "</div>"
            ],
            "text/plain": [
              "        Date  ...                                             scores\n",
              "0 2001-01-02  ...  {'neg': 0.17, 'neu': 0.726, 'pos': 0.105, 'com...\n",
              "1 2001-01-03  ...  {'neg': 0.141, 'neu': 0.711, 'pos': 0.149, 'co...\n",
              "2 2001-01-04  ...  {'neg': 0.126, 'neu': 0.748, 'pos': 0.126, 'co...\n",
              "3 2001-01-05  ...  {'neg': 0.147, 'neu': 0.66, 'pos': 0.193, 'com...\n",
              "4 2001-01-08  ...  {'neg': 0.155, 'neu': 0.753, 'pos': 0.092, 'co...\n",
              "\n",
              "[5 rows x 10 columns]"
            ]
          },
          "metadata": {},
          "execution_count": 140
        }
      ]
    },
    {
      "cell_type": "code",
      "metadata": {
        "id": "A7rWFRiXBBMG"
      },
      "source": [
        "DataTab['compound']=DataTab['scores'].apply(lambda score_dict: score_dict['compound']) \n",
        "DataTab['pos']=DataTab['scores'].apply(lambda score_dict: score_dict['pos'])\n",
        "DataTab['neg']=DataTab['scores'].apply(lambda score_dict: score_dict['neg']) \n",
        "DataTab['neu']=DataTab['scores'].apply(lambda score_dict: score_dict['neu'])"
      ],
      "execution_count": 141,
      "outputs": []
    },
    {
      "cell_type": "code",
      "metadata": {
        "colab": {
          "base_uri": "https://localhost:8080/",
          "height": 589
        },
        "id": "ksnYTuzA-qQu",
        "outputId": "701a5368-d28b-463a-8431-63e69730899a"
      },
      "source": [
        "DataTab=DataTab.drop('scores',axis=1)\n",
        "DataTab"
      ],
      "execution_count": 142,
      "outputs": [
        {
          "output_type": "execute_result",
          "data": {
            "text/html": [
              "<div>\n",
              "<style scoped>\n",
              "    .dataframe tbody tr th:only-of-type {\n",
              "        vertical-align: middle;\n",
              "    }\n",
              "\n",
              "    .dataframe tbody tr th {\n",
              "        vertical-align: top;\n",
              "    }\n",
              "\n",
              "    .dataframe thead th {\n",
              "        text-align: right;\n",
              "    }\n",
              "</style>\n",
              "<table border=\"1\" class=\"dataframe\">\n",
              "  <thead>\n",
              "    <tr style=\"text-align: right;\">\n",
              "      <th></th>\n",
              "      <th>Date</th>\n",
              "      <th>headline_text</th>\n",
              "      <th>sentiment</th>\n",
              "      <th>Open</th>\n",
              "      <th>High</th>\n",
              "      <th>Low</th>\n",
              "      <th>Close</th>\n",
              "      <th>Adj Close</th>\n",
              "      <th>Volume</th>\n",
              "      <th>compound</th>\n",
              "      <th>pos</th>\n",
              "      <th>neg</th>\n",
              "      <th>neu</th>\n",
              "    </tr>\n",
              "  </thead>\n",
              "  <tbody>\n",
              "    <tr>\n",
              "      <th>0</th>\n",
              "      <td>2001-01-02</td>\n",
              "      <td>status quo disturbed ayodhya says vajpayee fis...</td>\n",
              "      <td>0.121014</td>\n",
              "      <td>483.549988</td>\n",
              "      <td>483.549988</td>\n",
              "      <td>461.380005</td>\n",
              "      <td>462.489990</td>\n",
              "      <td>462.489990</td>\n",
              "      <td>1129400000</td>\n",
              "      <td>-0.9662</td>\n",
              "      <td>0.105</td>\n",
              "      <td>0.170</td>\n",
              "      <td>0.726</td>\n",
              "    </tr>\n",
              "    <tr>\n",
              "      <th>1</th>\n",
              "      <td>2001-01-03</td>\n",
              "      <td>powerless north gropes dark think laxman tells...</td>\n",
              "      <td>0.112500</td>\n",
              "      <td>462.489990</td>\n",
              "      <td>484.390015</td>\n",
              "      <td>459.279999</td>\n",
              "      <td>484.390015</td>\n",
              "      <td>484.390015</td>\n",
              "      <td>188070000</td>\n",
              "      <td>0.4019</td>\n",
              "      <td>0.149</td>\n",
              "      <td>0.141</td>\n",
              "      <td>0.711</td>\n",
              "    </tr>\n",
              "    <tr>\n",
              "      <th>2</th>\n",
              "      <td>2001-01-04</td>\n",
              "      <td>string pulled stephen hawking vajpayee gives b...</td>\n",
              "      <td>0.049416</td>\n",
              "      <td>484.390015</td>\n",
              "      <td>484.390015</td>\n",
              "      <td>475.899994</td>\n",
              "      <td>477.200012</td>\n",
              "      <td>477.200012</td>\n",
              "      <td>216940000</td>\n",
              "      <td>0.5423</td>\n",
              "      <td>0.126</td>\n",
              "      <td>0.126</td>\n",
              "      <td>0.748</td>\n",
              "    </tr>\n",
              "    <tr>\n",
              "      <th>3</th>\n",
              "      <td>2001-01-05</td>\n",
              "      <td>light combat craft takes club class hawkings d...</td>\n",
              "      <td>0.271341</td>\n",
              "      <td>477.200012</td>\n",
              "      <td>477.309998</td>\n",
              "      <td>461.760010</td>\n",
              "      <td>463.140015</td>\n",
              "      <td>463.140015</td>\n",
              "      <td>1430800000</td>\n",
              "      <td>0.9841</td>\n",
              "      <td>0.193</td>\n",
              "      <td>0.147</td>\n",
              "      <td>0.660</td>\n",
              "    </tr>\n",
              "    <tr>\n",
              "      <th>4</th>\n",
              "      <td>2001-01-08</td>\n",
              "      <td>sangh parivar babri panel ante frontrunner key...</td>\n",
              "      <td>-0.056988</td>\n",
              "      <td>463.140015</td>\n",
              "      <td>463.140015</td>\n",
              "      <td>457.559998</td>\n",
              "      <td>461.640015</td>\n",
              "      <td>461.640015</td>\n",
              "      <td>1115500000</td>\n",
              "      <td>-0.9709</td>\n",
              "      <td>0.092</td>\n",
              "      <td>0.155</td>\n",
              "      <td>0.753</td>\n",
              "    </tr>\n",
              "    <tr>\n",
              "      <th>...</th>\n",
              "      <td>...</td>\n",
              "      <td>...</td>\n",
              "      <td>...</td>\n",
              "      <td>...</td>\n",
              "      <td>...</td>\n",
              "      <td>...</td>\n",
              "      <td>...</td>\n",
              "      <td>...</td>\n",
              "      <td>...</td>\n",
              "      <td>...</td>\n",
              "      <td>...</td>\n",
              "      <td>...</td>\n",
              "      <td>...</td>\n",
              "    </tr>\n",
              "    <tr>\n",
              "      <th>2524</th>\n",
              "      <td>2011-01-14</td>\n",
              "      <td>cartoons yamla pagla deewana movie review srk ...</td>\n",
              "      <td>0.068394</td>\n",
              "      <td>800.650024</td>\n",
              "      <td>807.890015</td>\n",
              "      <td>799.049988</td>\n",
              "      <td>807.570007</td>\n",
              "      <td>807.570007</td>\n",
              "      <td>4661590000</td>\n",
              "      <td>-0.9998</td>\n",
              "      <td>0.108</td>\n",
              "      <td>0.168</td>\n",
              "      <td>0.725</td>\n",
              "    </tr>\n",
              "    <tr>\n",
              "      <th>2525</th>\n",
              "      <td>2011-01-18</td>\n",
              "      <td>top sex mistakes men make alcohol 6pack salman...</td>\n",
              "      <td>0.028897</td>\n",
              "      <td>807.570007</td>\n",
              "      <td>807.659973</td>\n",
              "      <td>801.039978</td>\n",
              "      <td>807.559998</td>\n",
              "      <td>807.559998</td>\n",
              "      <td>5284990000</td>\n",
              "      <td>-0.9998</td>\n",
              "      <td>0.102</td>\n",
              "      <td>0.162</td>\n",
              "      <td>0.736</td>\n",
              "    </tr>\n",
              "    <tr>\n",
              "      <th>2526</th>\n",
              "      <td>2011-01-19</td>\n",
              "      <td>ex doesnt want pratik saali gaali sudhir tells...</td>\n",
              "      <td>0.055350</td>\n",
              "      <td>806.679993</td>\n",
              "      <td>807.210022</td>\n",
              "      <td>785.849976</td>\n",
              "      <td>786.890015</td>\n",
              "      <td>786.890015</td>\n",
              "      <td>4743710000</td>\n",
              "      <td>-0.9997</td>\n",
              "      <td>0.095</td>\n",
              "      <td>0.151</td>\n",
              "      <td>0.755</td>\n",
              "    </tr>\n",
              "    <tr>\n",
              "      <th>2527</th>\n",
              "      <td>2011-01-20</td>\n",
              "      <td>neetu chandra denies going pantyless aishwarya...</td>\n",
              "      <td>0.035866</td>\n",
              "      <td>781.960022</td>\n",
              "      <td>785.780029</td>\n",
              "      <td>775.580017</td>\n",
              "      <td>778.080017</td>\n",
              "      <td>778.080017</td>\n",
              "      <td>4935320000</td>\n",
              "      <td>-0.9998</td>\n",
              "      <td>0.107</td>\n",
              "      <td>0.164</td>\n",
              "      <td>0.728</td>\n",
              "    </tr>\n",
              "    <tr>\n",
              "      <th>2528</th>\n",
              "      <td>2011-01-21</td>\n",
              "      <td>giving kids dressing ak hangals ill broke dhob...</td>\n",
              "      <td>0.009817</td>\n",
              "      <td>781.960022</td>\n",
              "      <td>786.890015</td>\n",
              "      <td>773.119995</td>\n",
              "      <td>773.179993</td>\n",
              "      <td>773.179993</td>\n",
              "      <td>4935320000</td>\n",
              "      <td>-0.9999</td>\n",
              "      <td>0.098</td>\n",
              "      <td>0.187</td>\n",
              "      <td>0.716</td>\n",
              "    </tr>\n",
              "  </tbody>\n",
              "</table>\n",
              "<p>2529 rows × 13 columns</p>\n",
              "</div>"
            ],
            "text/plain": [
              "           Date  ...    neu\n",
              "0    2001-01-02  ...  0.726\n",
              "1    2001-01-03  ...  0.711\n",
              "2    2001-01-04  ...  0.748\n",
              "3    2001-01-05  ...  0.660\n",
              "4    2001-01-08  ...  0.753\n",
              "...         ...  ...    ...\n",
              "2524 2011-01-14  ...  0.725\n",
              "2525 2011-01-18  ...  0.736\n",
              "2526 2011-01-19  ...  0.755\n",
              "2527 2011-01-20  ...  0.728\n",
              "2528 2011-01-21  ...  0.716\n",
              "\n",
              "[2529 rows x 13 columns]"
            ]
          },
          "metadata": {},
          "execution_count": 142
        }
      ]
    },
    {
      "cell_type": "code",
      "metadata": {
        "colab": {
          "base_uri": "https://localhost:8080/",
          "height": 513
        },
        "id": "JB8S_j_EEmYc",
        "outputId": "188d2b6f-76ed-4eda-dd9e-22d709251a22"
      },
      "source": [
        "plt.figure(figsize=(12,7))\n",
        "sns.lineplot(DataTab['Date'],DataTab['Close'],color='yellow', legend='auto')"
      ],
      "execution_count": 143,
      "outputs": [
        {
          "output_type": "stream",
          "name": "stderr",
          "text": [
            "/usr/local/lib/python3.7/dist-packages/seaborn/_decorators.py:43: FutureWarning: Pass the following variables as keyword args: x, y. From version 0.12, the only valid positional argument will be `data`, and passing other arguments without an explicit keyword will result in an error or misinterpretation.\n",
            "  FutureWarning\n"
          ]
        },
        {
          "output_type": "execute_result",
          "data": {
            "text/plain": [
              "<matplotlib.axes._subplots.AxesSubplot at 0x7f8fe3be5390>"
            ]
          },
          "metadata": {},
          "execution_count": 143
        },
        {
          "output_type": "display_data",
          "data": {
            "image/png": "[encoded data removed]",
            "text/plain": [
              "<Figure size 864x504 with 1 Axes>"
            ]
          },
          "metadata": {
            "needs_background": "light"
          }
        }
      ]
    },
    {
      "cell_type": "markdown",
      "metadata": {
        "id": "f1I6ZjbUFWyf"
      },
      "source": [
        "**Creating a new Column called 'Price_up' by having logical values(0 AND 1) in it. Here 1 represents INCREASE IN STOCK while 0 represents DECREASE/REMAIN UNCHANGED**"
      ]
    },
    {
      "cell_type": "code",
      "metadata": {
        "colab": {
          "base_uri": "https://localhost:8080/",
          "height": 289
        },
        "id": "Zmt2cls0Emiq",
        "outputId": "9b404534-de40-4241-c264-77f3c9bee70c"
      },
      "source": [
        "DataTab['Price_up']=np.where(DataTab['Close'].shift(-1)>DataTab['Close'],1,0)\n",
        "DataTab.head()"
      ],
      "execution_count": 144,
      "outputs": [
        {
          "output_type": "execute_result",
          "data": {
            "text/html": [
              "<div>\n",
              "<style scoped>\n",
              "    .dataframe tbody tr th:only-of-type {\n",
              "        vertical-align: middle;\n",
              "    }\n",
              "\n",
              "    .dataframe tbody tr th {\n",
              "        vertical-align: top;\n",
              "    }\n",
              "\n",
              "    .dataframe thead th {\n",
              "        text-align: right;\n",
              "    }\n",
              "</style>\n",
              "<table border=\"1\" class=\"dataframe\">\n",
              "  <thead>\n",
              "    <tr style=\"text-align: right;\">\n",
              "      <th></th>\n",
              "      <th>Date</th>\n",
              "      <th>headline_text</th>\n",
              "      <th>sentiment</th>\n",
              "      <th>Open</th>\n",
              "      <th>High</th>\n",
              "      <th>Low</th>\n",
              "      <th>Close</th>\n",
              "      <th>Adj Close</th>\n",
              "      <th>Volume</th>\n",
              "      <th>compound</th>\n",
              "      <th>pos</th>\n",
              "      <th>neg</th>\n",
              "      <th>neu</th>\n",
              "      <th>Price_up</th>\n",
              "    </tr>\n",
              "  </thead>\n",
              "  <tbody>\n",
              "    <tr>\n",
              "      <th>0</th>\n",
              "      <td>2001-01-02</td>\n",
              "      <td>status quo disturbed ayodhya says vajpayee fis...</td>\n",
              "      <td>0.121014</td>\n",
              "      <td>483.549988</td>\n",
              "      <td>483.549988</td>\n",
              "      <td>461.380005</td>\n",
              "      <td>462.489990</td>\n",
              "      <td>462.489990</td>\n",
              "      <td>1129400000</td>\n",
              "      <td>-0.9662</td>\n",
              "      <td>0.105</td>\n",
              "      <td>0.170</td>\n",
              "      <td>0.726</td>\n",
              "      <td>1</td>\n",
              "    </tr>\n",
              "    <tr>\n",
              "      <th>1</th>\n",
              "      <td>2001-01-03</td>\n",
              "      <td>powerless north gropes dark think laxman tells...</td>\n",
              "      <td>0.112500</td>\n",
              "      <td>462.489990</td>\n",
              "      <td>484.390015</td>\n",
              "      <td>459.279999</td>\n",
              "      <td>484.390015</td>\n",
              "      <td>484.390015</td>\n",
              "      <td>188070000</td>\n",
              "      <td>0.4019</td>\n",
              "      <td>0.149</td>\n",
              "      <td>0.141</td>\n",
              "      <td>0.711</td>\n",
              "      <td>0</td>\n",
              "    </tr>\n",
              "    <tr>\n",
              "      <th>2</th>\n",
              "      <td>2001-01-04</td>\n",
              "      <td>string pulled stephen hawking vajpayee gives b...</td>\n",
              "      <td>0.049416</td>\n",
              "      <td>484.390015</td>\n",
              "      <td>484.390015</td>\n",
              "      <td>475.899994</td>\n",
              "      <td>477.200012</td>\n",
              "      <td>477.200012</td>\n",
              "      <td>216940000</td>\n",
              "      <td>0.5423</td>\n",
              "      <td>0.126</td>\n",
              "      <td>0.126</td>\n",
              "      <td>0.748</td>\n",
              "      <td>0</td>\n",
              "    </tr>\n",
              "    <tr>\n",
              "      <th>3</th>\n",
              "      <td>2001-01-05</td>\n",
              "      <td>light combat craft takes club class hawkings d...</td>\n",
              "      <td>0.271341</td>\n",
              "      <td>477.200012</td>\n",
              "      <td>477.309998</td>\n",
              "      <td>461.760010</td>\n",
              "      <td>463.140015</td>\n",
              "      <td>463.140015</td>\n",
              "      <td>1430800000</td>\n",
              "      <td>0.9841</td>\n",
              "      <td>0.193</td>\n",
              "      <td>0.147</td>\n",
              "      <td>0.660</td>\n",
              "      <td>0</td>\n",
              "    </tr>\n",
              "    <tr>\n",
              "      <th>4</th>\n",
              "      <td>2001-01-08</td>\n",
              "      <td>sangh parivar babri panel ante frontrunner key...</td>\n",
              "      <td>-0.056988</td>\n",
              "      <td>463.140015</td>\n",
              "      <td>463.140015</td>\n",
              "      <td>457.559998</td>\n",
              "      <td>461.640015</td>\n",
              "      <td>461.640015</td>\n",
              "      <td>1115500000</td>\n",
              "      <td>-0.9709</td>\n",
              "      <td>0.092</td>\n",
              "      <td>0.155</td>\n",
              "      <td>0.753</td>\n",
              "      <td>1</td>\n",
              "    </tr>\n",
              "  </tbody>\n",
              "</table>\n",
              "</div>"
            ],
            "text/plain": [
              "        Date  ... Price_up\n",
              "0 2001-01-02  ...        1\n",
              "1 2001-01-03  ...        0\n",
              "2 2001-01-04  ...        0\n",
              "3 2001-01-05  ...        0\n",
              "4 2001-01-08  ...        1\n",
              "\n",
              "[5 rows x 14 columns]"
            ]
          },
          "metadata": {},
          "execution_count": 144
        }
      ]
    },
    {
      "cell_type": "code",
      "metadata": {
        "colab": {
          "base_uri": "https://localhost:8080/"
        },
        "id": "Qo8piaMiGUhc",
        "outputId": "5c08d3fd-c648-439c-eb35-c8959c5847f7"
      },
      "source": [
        "DataTab.columns"
      ],
      "execution_count": 145,
      "outputs": [
        {
          "output_type": "execute_result",
          "data": {
            "text/plain": [
              "Index(['Date', 'headline_text', 'sentiment', 'Open', 'High', 'Low', 'Close',\n",
              "       'Adj Close', 'Volume', 'compound', 'pos', 'neg', 'neu', 'Price_up'],\n",
              "      dtype='object')"
            ]
          },
          "metadata": {},
          "execution_count": 145
        }
      ]
    },
    {
      "cell_type": "markdown",
      "metadata": {
        "id": "AJxyaynNGY_c"
      },
      "source": [
        "**Splitting Dataset into X and Y**"
      ]
    },
    {
      "cell_type": "code",
      "metadata": {
        "id": "unJFjq_8GUmp"
      },
      "source": [
        "X=DataTab[['sentiment', 'Open', 'High', 'Low','Close','Volume', 'compound', 'pos', 'neg', 'neu']]\n",
        "y=DataTab['Price_up']"
      ],
      "execution_count": 146,
      "outputs": []
    },
    {
      "cell_type": "markdown",
      "metadata": {
        "id": "reilUC1VGrBX"
      },
      "source": [
        "**Splitting Dataset into train and test set**"
      ]
    },
    {
      "cell_type": "code",
      "metadata": {
        "id": "ArEbFSWkGUqn"
      },
      "source": [
        "X_train,X_test,y_train,y_test=train_test_split(X,y,test_size=0.2,random_state=0)"
      ],
      "execution_count": 147,
      "outputs": []
    },
    {
      "cell_type": "code",
      "metadata": {
        "colab": {
          "base_uri": "https://localhost:8080/"
        },
        "id": "SWjiqMTfG9zB",
        "outputId": "dc566e79-2d2f-46cc-ae50-a04dd05b4123"
      },
      "source": [
        "print(X_train.shape)\n",
        "print(X_test.shape)"
      ],
      "execution_count": 148,
      "outputs": [
        {
          "output_type": "stream",
          "name": "stdout",
          "text": [
            "(2023, 10)\n",
            "(506, 10)\n"
          ]
        }
      ]
    },
    {
      "cell_type": "markdown",
      "metadata": {
        "id": "N_0t0vJtHB7j"
      },
      "source": [
        "**Grid search for OPTIMAL PARAMETERS**"
      ]
    },
    {
      "cell_type": "code",
      "metadata": {
        "id": "m6ejQVS4IEZV"
      },
      "source": [
        "X_train = X_train.fillna(X_train.mean())"
      ],
      "execution_count": 149,
      "outputs": []
    },
    {
      "cell_type": "code",
      "metadata": {
        "colab": {
          "base_uri": "https://localhost:8080/"
        },
        "id": "1GBxxfIOG93P",
        "outputId": "7c33ef9b-5d0d-4905-eef1-2b2c43c977e2"
      },
      "source": [
        "tuned_parameters=[{'max_depth':[10,20],\n",
        "                   'n_estimators':[10,20],\n",
        "                   'max_features':['sqrt',0.2]}]\n",
        "radm_clf=RandomForestClassifier()\n",
        "clf=GridSearchCV(radm_clf, tuned_parameters,cv=5,scoring='roc_auc')\n",
        "clf.fit(X_train,y_train)"
      ],
      "execution_count": 150,
      "outputs": [
        {
          "output_type": "execute_result",
          "data": {
            "text/plain": [
              "GridSearchCV(cv=5, error_score=nan,\n",
              "             estimator=RandomForestClassifier(bootstrap=True, ccp_alpha=0.0,\n",
              "                                              class_weight=None,\n",
              "                                              criterion='gini', max_depth=None,\n",
              "                                              max_features='auto',\n",
              "                                              max_leaf_nodes=None,\n",
              "                                              max_samples=None,\n",
              "                                              min_impurity_decrease=0.0,\n",
              "                                              min_impurity_split=None,\n",
              "                                              min_samples_leaf=1,\n",
              "                                              min_samples_split=2,\n",
              "                                              min_weight_fraction_leaf=0.0,\n",
              "                                              n_estimators=100, n_jobs=None,\n",
              "                                              oob_score=False,\n",
              "                                              random_state=None, verbose=0,\n",
              "                                              warm_start=False),\n",
              "             iid='deprecated', n_jobs=None,\n",
              "             param_grid=[{'max_depth': [10, 20], 'max_features': ['sqrt', 0.2],\n",
              "                          'n_estimators': [10, 20]}],\n",
              "             pre_dispatch='2*n_jobs', refit=True, return_train_score=False,\n",
              "             scoring='roc_auc', verbose=0)"
            ]
          },
          "metadata": {},
          "execution_count": 150
        }
      ]
    },
    {
      "cell_type": "markdown",
      "metadata": {
        "id": "nlNZ27fnIOc7"
      },
      "source": [
        "**Best Score**"
      ]
    },
    {
      "cell_type": "code",
      "metadata": {
        "colab": {
          "base_uri": "https://localhost:8080/"
        },
        "id": "M2mncqu_IJ-Y",
        "outputId": "5755ad86-d521-4cad-e469-37e58907a3f9"
      },
      "source": [
        "clf.best_score_"
      ],
      "execution_count": 151,
      "outputs": [
        {
          "output_type": "execute_result",
          "data": {
            "text/plain": [
              "0.529515848118848"
            ]
          },
          "metadata": {},
          "execution_count": 151
        }
      ]
    },
    {
      "cell_type": "markdown",
      "metadata": {
        "id": "-fSzHCwMIWvA"
      },
      "source": [
        "**Best Parameters**"
      ]
    },
    {
      "cell_type": "code",
      "metadata": {
        "colab": {
          "base_uri": "https://localhost:8080/"
        },
        "id": "r8E6oHWbIKNm",
        "outputId": "a66f9c83-4b13-47c9-8761-8c65622e7dc9"
      },
      "source": [
        "clf.best_params_"
      ],
      "execution_count": 152,
      "outputs": [
        {
          "output_type": "execute_result",
          "data": {
            "text/plain": [
              "{'max_depth': 20, 'max_features': 'sqrt', 'n_estimators': 20}"
            ]
          },
          "metadata": {},
          "execution_count": 152
        }
      ]
    },
    {
      "cell_type": "markdown",
      "metadata": {
        "id": "OxQA73PEIhoS"
      },
      "source": [
        "**Building Final Model with Optimal Parameter Values**"
      ]
    },
    {
      "cell_type": "code",
      "metadata": {
        "colab": {
          "base_uri": "https://localhost:8080/"
        },
        "id": "FsI7eIbkIhzp",
        "outputId": "a3ce0990-2066-4851-c9bc-51cf473d53e0"
      },
      "source": [
        "randomclassifier=RandomForestClassifier(n_estimators=20,max_features='sqrt')\n",
        "randomclassifier.fit(X_train,y_train)"
      ],
      "execution_count": 153,
      "outputs": [
        {
          "output_type": "execute_result",
          "data": {
            "text/plain": [
              "RandomForestClassifier(bootstrap=True, ccp_alpha=0.0, class_weight=None,\n",
              "                       criterion='gini', max_depth=None, max_features='sqrt',\n",
              "                       max_leaf_nodes=None, max_samples=None,\n",
              "                       min_impurity_decrease=0.0, min_impurity_split=None,\n",
              "                       min_samples_leaf=1, min_samples_split=2,\n",
              "                       min_weight_fraction_leaf=0.0, n_estimators=20,\n",
              "                       n_jobs=None, oob_score=False, random_state=None,\n",
              "                       verbose=0, warm_start=False)"
            ]
          },
          "metadata": {},
          "execution_count": 153
        }
      ]
    },
    {
      "cell_type": "markdown",
      "metadata": {
        "id": "2AyS--SDIh8h"
      },
      "source": [
        "**Classification Report**"
      ]
    },
    {
      "cell_type": "code",
      "metadata": {
        "colab": {
          "base_uri": "https://localhost:8080/"
        },
        "id": "IFRdKS3mIiCZ",
        "outputId": "c26d9beb-0ed1-4f4d-cf43-d3c35d28eda1"
      },
      "source": [
        "X_test = X_test.fillna(X_test.mean())\n",
        "y_pred=randomclassifier.predict(X_test)\n",
        "print(metrics.classification_report(y_test,y_pred))"
      ],
      "execution_count": 154,
      "outputs": [
        {
          "output_type": "stream",
          "name": "stdout",
          "text": [
            "              precision    recall  f1-score   support\n",
            "\n",
            "           0       0.49      0.50      0.50       251\n",
            "           1       0.50      0.49      0.50       255\n",
            "\n",
            "    accuracy                           0.50       506\n",
            "   macro avg       0.50      0.50      0.50       506\n",
            "weighted avg       0.50      0.50      0.50       506\n",
            "\n"
          ]
        }
      ]
    },
    {
      "cell_type": "code",
      "metadata": {
        "colab": {
          "base_uri": "https://localhost:8080/"
        },
        "id": "SZI70wStJab-",
        "outputId": "373136e3-289c-4113-eba0-0f9608ba0d4e"
      },
      "source": [
        "print('Mean Absolute Error:', metrics.mean_absolute_error(y_test, y_pred))\n",
        "print('Mean Squared Error:', metrics.mean_squared_error(y_test, y_pred))\n",
        "print('Root Mean Squared Error:', np.sqrt(metrics.mean_squared_error(y_test, y_pred)))"
      ],
      "execution_count": 156,
      "outputs": [
        {
          "output_type": "stream",
          "name": "stdout",
          "text": [
            "Mean Absolute Error: 0.5039525691699605\n",
            "Mean Squared Error: 0.5039525691699605\n",
            "Root Mean Squared Error: 0.7098961678794726\n"
          ]
        }
      ]
    }
  ]
}